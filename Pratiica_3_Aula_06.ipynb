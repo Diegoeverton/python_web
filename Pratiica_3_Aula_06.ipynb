{
  "nbformat": 4,
  "nbformat_minor": 0,
  "metadata": {
    "colab": {
      "provenance": [],
      "collapsed_sections": [],
      "authorship_tag": "ABX9TyP25KAwjnPHl3C4QOEomI2F",
      "include_colab_link": true
    },
    "kernelspec": {
      "name": "python3",
      "display_name": "Python 3"
    },
    "language_info": {
      "name": "python"
    }
  },
  "cells": [
    {
      "cell_type": "markdown",
      "metadata": {
        "id": "view-in-github",
        "colab_type": "text"
      },
      "source": [
        "<a href=\"https://colab.research.google.com/github/Diegoeverton/python_web/blob/main/Pratiica_3_Aula_06.ipynb\" target=\"_parent\"><img src=\"https://colab.research.google.com/assets/colab-badge.svg\" alt=\"Open In Colab\"/></a>"
      ]
    },
    {
      "cell_type": "markdown",
      "source": [
        "ALUNO: DIEGO EVERTON DA SILVA EVANGELISTA\n"
      ],
      "metadata": {
        "id": "MGqezs-LdYJB"
      }
    },
    {
      "cell_type": "markdown",
      "source": [
        "ORIENTAÇÃO A OBJETOS: CLASSES "
      ],
      "metadata": {
        "id": "3wsHBaM7dpXO"
      }
    },
    {
      "cell_type": "code",
      "execution_count": null,
      "metadata": {
        "id": "Jh3BYo0hdO1R"
      },
      "outputs": [],
      "source": [
        "\"\"\" VAMOS SUPOR QUE QUEREMOS CRIAR UMA APLICAÇÃO SIMPLES PARA CADASTRO DE FILMES E SÉRIES.\n",
        "pRECISAMOS TRANSFORMAR A NOSSA IDÉIA EM LINGUAGEM DE CÓDIGO. PRIMEIRAMENTE, DEFINIMOS OS REQUISITOS DE SOFTWARE\"\"\"\n",
        "\"\"\"PRECISAMOS CRIAR ALGO PARA GUARDAR FILMES E TAMBÉM SERIES, COM TODAS AS SUAS CARACTERESTICAS.\n",
        "A PRINCIPIO, POR QUESTÕES DIDATICAS, VAMOS CRIAR UAM CLASSE PARA CADA \"\"\""
      ]
    },
    {
      "cell_type": "code",
      "source": [
        "class Filme:\n",
        "  pass\n",
        "\n",
        "snowden = Filme ()\n",
        "print (snowden)"
      ],
      "metadata": {
        "colab": {
          "base_uri": "https://localhost:8080/"
        },
        "id": "pKgxrqbxeFIs",
        "outputId": "b80c8c75-77db-47ac-e1a2-a86a0b0b3d0b"
      },
      "execution_count": null,
      "outputs": [
        {
          "output_type": "stream",
          "name": "stdout",
          "text": [
            "<__main__.Filme object at 0x7f6d59097c90>\n"
          ]
        }
      ]
    },
    {
      "cell_type": "code",
      "source": [
        "class Filme:\n",
        "  def __init__(self, nome, ano, duracao):\n",
        "    self.nome = nome\n",
        "    self.ano = ano\n",
        "    self.duracao = duracao\n",
        "\n",
        "snowden = Filme ()\n",
        "print(snowden.nome)"
      ],
      "metadata": {
        "id": "ycf3-i7ygGHJ"
      },
      "execution_count": null,
      "outputs": []
    },
    {
      "cell_type": "code",
      "source": [
        "snowden = Filme ('Snowden: herói ou vilão', 2018, 160)\n",
        "print (snowden.nome)"
      ],
      "metadata": {
        "colab": {
          "base_uri": "https://localhost:8080/"
        },
        "id": "sNbhv0jYgYrj",
        "outputId": "d3bd1d6f-0328-4c7b-e36c-368cb6289fdd"
      },
      "execution_count": null,
      "outputs": [
        {
          "output_type": "stream",
          "name": "stdout",
          "text": [
            "Snowden: herói ou vilão\n"
          ]
        }
      ]
    },
    {
      "cell_type": "code",
      "source": [
        "class Filme:\n",
        "  def __init__(self, nome, ano, duracao):\n",
        "    self.nome = nome\n",
        "    self.ano = ano\n",
        "    self.duracao = duracao\n",
        "\n",
        "class Serie:\n",
        "  def __init__(self, nome, ano, temporadas):\n",
        "    self.nome = nome\n",
        "    self.ano = ano\n",
        "    self.temporadas = temporadas\n",
        "\n",
        "snowden = Filme ('Snowden: herói ou vilão', 2018, 160)\n",
        "print(snowden.nome)\n",
        "\n",
        "blackMirror = Serie ('Black Mirror', 2018, 2)\n",
        "\n",
        "print(f'Nome: {blackMirror.nome} - Ano: {blackMirror.ano} - Temporadas {blackMirror.temporadas}')"
      ],
      "metadata": {
        "id": "ktuKsMShggHY",
        "colab": {
          "base_uri": "https://localhost:8080/"
        },
        "outputId": "d93d1ff4-2451-4922-8f8d-f1ef7c9e33ad"
      },
      "execution_count": null,
      "outputs": [
        {
          "output_type": "stream",
          "name": "stdout",
          "text": [
            "Snowden: herói ou vilão\n",
            "Nome: Black Mirror - Ano: 2018 - Temporadas 2\n"
          ]
        }
      ]
    },
    {
      "cell_type": "code",
      "source": [
        "# VAMOS TORNAR ESSE INFORMAÇÃO MAIS COMPREENSIVEL AGREGANDO MAIS INFORMAÇÕESAO filme\n",
        "\n",
        "snowden = Filme ('Snowden: herói ou vilão', 2018, 160)\n",
        "print(f'Nome {snowden.nome} - Ano: {snowden.ano} - Temporadas: {snowden.duracao}')\n",
        "\n",
        "blackMirror = Serie ('Black MIrror', 2018, 2 )\n",
        "print (f'Nome: {blackMirror.nome} - Ano: {blackMirror.ano} - Temporadas {blackMirror.temporadas}')"
      ],
      "metadata": {
        "colab": {
          "base_uri": "https://localhost:8080/"
        },
        "id": "VnVnfm4iVmpQ",
        "outputId": "bced61d2-958d-4b46-b4c5-851a87ac83fe"
      },
      "execution_count": null,
      "outputs": [
        {
          "output_type": "stream",
          "name": "stdout",
          "text": [
            "Nome Snowden: herói ou vilão - Ano: 2018 - Temporadas: 160\n",
            "Nome: Black MIrror - Ano: 2018 - Temporadas 2\n"
          ]
        }
      ]
    },
    {
      "cell_type": "code",
      "source": [
        "# VOLTANOD A FILME\n",
        "\n",
        "class Filme:\n",
        "  def __init__ (self, nome, ano, duracao):\n",
        "    self.nome = nome.capitalize ()\n",
        "    self.ano - ano\n",
        "    self.duracao = duracao\n",
        "\n",
        "class Filme:\n",
        "  def __init__ (self, nome, ano, duracao):\n",
        "    self.nome = nome.title()\n",
        "    self.ano = ano\n",
        "    self.duracao = duracao\n",
        "\n",
        "class Serie:\n",
        "  def __init__ (self, nome, ano, temporadas):\n",
        "    self.nome= nome.title()\n",
        "    self.ano = ano\n",
        "    self.temporadas = temporadas\n",
        "# Porem queremos exibir os likes. Vamos começar por self.likes:\n",
        "    self.likes = 0\n",
        "\n",
        "  def dar_like (self):\n",
        "    self.likes += 1 \n"
      ],
      "metadata": {
        "id": "_hSXAgjKcTDR"
      },
      "execution_count": null,
      "outputs": []
    },
    {
      "cell_type": "code",
      "source": [
        "from re import A\n",
        "# IMPLEMENTANDO LIKES\n",
        "\n",
        "class Filme:\n",
        "  def __init__(self, nome, ano, duracao):\n",
        "    self.nome = nome.title()\n",
        "    self.ano = ano\n",
        "    self.duracao = duracao\n",
        "# Porem queremos exibir os likes. Vamos começar por self.likes:\n",
        "    self.likes = 0\n",
        "\n",
        "  def dar_like (self):\n",
        "    self.likes += 1 \n",
        "\n"
      ],
      "metadata": {
        "id": "exau2N01dQo5"
      },
      "execution_count": null,
      "outputs": []
    },
    {
      "cell_type": "code",
      "source": [
        "\n",
        "\"\"\"Lembre-se que no construtor não iremos receber likes, ele sempre começará\n",
        "com valor igual a 0, sem termos do usuario. Agor, adicionaremos o texto da string par exibirmos\n",
        "a populadide\"\"\"\n",
        "\n",
        "snowden = Filme('Snowden: herói ou vilão', 2018, 160)\n",
        "print (f'Nome: {snowden.nome} - Ano: {snowden.ano} - Temporadas: {snowden.duracao} LIkes: {snowden.likes}')\n",
        "\n",
        "blackMirror = Serie('Black Mirror', 2018, 2)\n",
        "print (f'Nome: {blackMirror.nome} Ano: {blackMirror.ano} - Temporadas: {blackMirror.temporadas} LInkes: {blackMirror.likes}') "
      ],
      "metadata": {
        "colab": {
          "base_uri": "https://localhost:8080/"
        },
        "id": "dLsBv5C8fT6i",
        "outputId": "7069b777-17d6-42c0-82b4-4ed56421a0d1"
      },
      "execution_count": null,
      "outputs": [
        {
          "output_type": "stream",
          "name": "stdout",
          "text": [
            "Nome: Snowden: Herói Ou Vilão - Ano: 2018 - Temporadas: 160 LIkes: 0\n",
            "Nome: Black Mirror Ano: 2018 - Temporadas: 2 LInkes: 0\n"
          ]
        }
      ]
    },
    {
      "cell_type": "code",
      "source": [
        "\"\"\"Ja conseguimos dar LIkes, fizemos as tarefas propostas, mas temos algumas falhas.\n",
        "Por exemplo, definimos que o nome e titularizado, porem, se adicionarmos uma nova linha com atlanta.nome\n",
        "no codigo, logo abaixo de atlanta, ele deixara de fazer alteração nas letras\"\"\"\n",
        "\n",
        "blackMirror = Serie ('blackMirror', 2018, 2)\n",
        "\n",
        "blackMirror.nome = 'blackMirror'\n",
        "blackMirror.dar_like ()\n",
        "blackMirror.dar_like ()\n",
        "print (f'Nome: {blackMirror.nome} Ano: {blackMirror.ano} '\n",
        "f' Temporadas: {blackMirror.temporadas} - Likes: {blackMirror.likes}'"
      ],
      "metadata": {
        "colab": {
          "base_uri": "https://localhost:8080/"
        },
        "id": "HFtxnGRuhjZG",
        "outputId": "c4df92c9-c51e-4440-c6f4-429b49ee3e97"
      },
      "execution_count": null,
      "outputs": [
        {
          "output_type": "stream",
          "name": "stdout",
          "text": [
            "Nome: blackMirror Ano: 2018  Temporadas: 2 - Likes: 2\n"
          ]
        }
      ]
    },
    {
      "cell_type": "code",
      "source": [
        "\"\"\"O problema aconteceu por que nao estamos protegendo o nome de atributo,\n",
        "este é alterado apenas no momento da criação, mas e depois?\n",
        "Como definiremos o set do atributo, ou seja, seu valor\"\"\"\n",
        "\"\"\"A seguir, precisaremos proteger o nosso atributo. Se analisarmos o código, devemos\n",
        "fazer o mesmo e proteger likes pois, da maneira que foi construido, é possivel fazermos uma \n",
        "atlteracao, como vermos abaixo\"\"\"\n",
        "\n",
        "\n",
        "class Filme:\n",
        "  def __init__(self, nome, ano, duracao):\n",
        "    self.nome = nome.title()\n",
        "    self.ano = ano\n",
        "    self.duracao = duracao\n",
        "    self.likes = 0\n",
        "\n",
        "  def dar_like (self):\n",
        "    self.likes += 1 \n",
        "\n",
        "\"\"\" estes atributos estão publicos, totalmente disponiveis para alteraçaão. Como \n",
        "podemos deixa-los restritos? Podemos definir como privados e adicionar getter e setter para apresentar\n",
        "osvalores que estão dentro dos atributos, incluindo-os antes deste __ (dois underlines).\"\"\"\n",
        "\n",
        "\n",
        "class Filme:\n",
        "  def __init__(self, nome, ano, duracao):\n",
        "    self.__nome = nome.title()\n",
        "    self.ano = ano\n",
        "    self.duracao = duracao\n",
        "    self.__likes = 0\n",
        "\n",
        "  def dar_like (self):\n",
        "    self.likes += 1 \n",
        "\"\"\" \n",
        "Os atributos ano e duracao não são tão importantes quanto nome e aquantidade de likes. \n",
        "Os elementos que não necessitam de proteção, semnenhuma lógica, fi carão públicos. Na linguagem Python, \n",
        "é raro deixarmostudo como privado, isto é mais recorrente em outras linguagens, que têmaspectos diferentes. \n",
        "No Python, o recomendável é mantermos nosso códigosimples para que ele seja de fácil compreensão e mais expressivo\"\"\"\n"
      ],
      "metadata": {
        "id": "OHLm09f1kXqO"
      },
      "execution_count": null,
      "outputs": []
    },
    {
      "cell_type": "code",
      "source": [
        "# O proximo passo será repetir essa acao com a classe serie\n",
        "\n",
        "class Serie:\n",
        "  def __init__ (self, nome, ano, temporadas):\n",
        "    self.__nome= nome.title()\n",
        "    self.ano = ano\n",
        "    self.temporadas = temporadas\n",
        "    self.__likes = 0\n",
        "\n",
        "  def dar_like (self):\n",
        "    self.likes += 1\n",
        "  \"\"\"Em breve, deixaremos de copiar o código. Nós titularizamos o texto e protegemos \n",
        "  o __likes, quesó pode ser alterado por meio do método dar_like(). Porém, como não conseguimos \n",
        "  maisacessar likes, nosso código vai quebrar, e veremos várias mensagens de erro no console.\"\"\""
      ],
      "metadata": {
        "id": "i-eFLQ7_mK6F"
      },
      "execution_count": null,
      "outputs": []
    },
    {
      "cell_type": "code",
      "source": [
        "blackMirror = Serie ('BlackMirror', 2018, 2)\n",
        "\n",
        "blackMirror.nome = 'blackMirror'\n",
        "blackMirror.dar_like()\n",
        "blackMirror.dar_like()\n",
        "print (f'Nome: {blackMirror.nome} Ano: {blackMirror.ano} '\n",
        "f' Temporadas: {blackMirror.temporadas} - Likes: {blackMirror.likes}')"
      ],
      "metadata": {
        "colab": {
          "base_uri": "https://localhost:8080/"
        },
        "id": "OkcQQLgmnABA",
        "outputId": "aeb0e413-c658-4d5b-dfc2-945b8cb94b1c"
      },
      "execution_count": null,
      "outputs": [
        {
          "output_type": "stream",
          "name": "stdout",
          "text": [
            "Nome: blackMirror Ano: 2018  Temporadas: 2 - Likes: 2\n"
          ]
        }
      ]
    },
    {
      "cell_type": "code",
      "source": [
        "\"\"\" TEREMOS QUE DEFINIR OUTRA FORMA DE ACESSO A ESSE ATRIBUTO, - POR EXEMPLO, PEGAREMOS ALGUM ATRIBUTO\n",
        "PARA PEAR LIKE. SE TENTASSEMOS CRIAR O MÉTODO get_likes(), TERIAMOS QUE ALTERAR TODOS OS CODIGOS QUE DEPENDEM DE LIKES.\n",
        "TEM ALGUAM FORMA DE NÃO DEIXARMOS NOSSO CODIGOQUEBRAR, POR EXEMPLO, CRIANDO UM ACESSOR PARA ESTE ATRIBUTO?\"\"\"\n",
        "\"\"\" Quando trabalharmos com nome, teremos que pegar get_nome, onde temosvingadores.nome e atlanta.nome, veremos nosso código quebrar. \n",
        "Todos osobjetos que forem acessados de forma semelhante vão quebrar. Estanecessidade de alterar diferentes trechos de código não é uma b\n",
        "oa prática.A melhor opção seria construirmos um código de forma que a classe nãoafete os dependentes.\"\"\"\n",
        "\"\"\"Como faremos para diminuir o impacto? O Python nos oferece uma forma defazermos isso. Em vez de usarmos getter, \n",
        "podemos usar @property. Comisso, criamos um elemento parecido com um atributo.\"\"\"\n"
      ],
      "metadata": {
        "id": "mjFxjsuRRa0H"
      },
      "execution_count": null,
      "outputs": []
    },
    {
      "cell_type": "code",
      "source": [
        " class Filme():\n",
        "  def __init__(self, nome, ano, duracao):\n",
        "    self.__nome = nome.title()\n",
        "    self.ano = ano\n",
        "    self.duracao = duracao\n",
        "    self.__likes = 0\n",
        "\n",
        "  #usando o metodo @propety ao inves de criar o metoto getter()\n",
        "  @property\n",
        "  def likes(self):\n",
        "    return self. __likes\n",
        "\n",
        "  def dar_likes(self):\n",
        "    self.__likes += 1 \n",
        "\n",
        "  @property\n",
        "  def nome(self):\n",
        "    return self.__nome\n",
        "\n",
        "  @nome.setter\n",
        "  def nome (self, novo_nome):\n",
        "  \n",
        "  @nome.setter\n",
        "  def nome (self, novo_nome):\n",
        "    self. __nome = novo_nome.title() "
      ],
      "metadata": {
        "colab": {
          "base_uri": "https://localhost:8080/",
          "height": 131
        },
        "id": "ISRDkee_S9K_",
        "outputId": "c6c9809f-b00f-4682-993c-3e5ff7ca8857"
      },
      "execution_count": 16,
      "outputs": [
        {
          "output_type": "error",
          "ename": "IndentationError",
          "evalue": "ignored",
          "traceback": [
            "\u001b[0;36m  File \u001b[0;32m\"<ipython-input-16-bd90ffbd8d71>\"\u001b[0;36m, line \u001b[0;32m23\u001b[0m\n\u001b[0;31m    @nome.setter\u001b[0m\n\u001b[0m    ^\u001b[0m\n\u001b[0;31mIndentationError\u001b[0m\u001b[0;31m:\u001b[0m expected an indented block\n"
          ]
        }
      ]
    },
    {
      "cell_type": "markdown",
      "source": [
        "PARTE 2 = DEFININDO LIMITAÇÕES PARA CPF"
      ],
      "metadata": {
        "id": "Em9ysPd9X75f"
      }
    },
    {
      "cell_type": "code",
      "source": [
        "# DEFININDO DELIMITADORES PARA CPF\n",
        "class Pessoa:\n",
        "  tamanho_cfp = 11\n",
        "\n",
        "  def __init__(self, cpf, nome):\n",
        "    self.cpf = cpf\n",
        "    self.nome = nome\n",
        "\n",
        "  def valida_cpf (self):\n",
        "    return True if len(self.cpf) == __class__.tamanho_cpf else False\n",
        "\n",
        "  pe = Pessoa ('00000000001', 'Camila')\n",
        "  print(pe.valida_cpf())\n",
        "\n",
        "  pe = Pessoa ('0000000000', 'Suely')\n",
        "  print(pe.valida_cpf())"
      ],
      "metadata": {
        "id": "J_It8WSNVIO1",
        "colab": {
          "base_uri": "https://localhost:8080/"
        },
        "outputId": "bf27711b-9f7e-43eb-c2d8-161e7dec5947"
      },
      "execution_count": 27,
      "outputs": [
        {
          "output_type": "stream",
          "name": "stdout",
          "text": [
            "True\n",
            "False\n"
          ]
        }
      ]
    },
    {
      "cell_type": "code",
      "source": [
        "class Pessoa:\n",
        "  tamanho_cpf = 11\n",
        "p = Pessoa()\n",
        "print(p.tamanho_cpf)\n",
        "\n",
        "p.tamanho_cpf = 12\n",
        "print(p.tamanho_cpf)\n",
        "\n",
        "print(Pessoa.tamanho_cpf)\n"
      ],
      "metadata": {
        "colab": {
          "base_uri": "https://localhost:8080/"
        },
        "id": "d8QxhPKPjkAc",
        "outputId": "e2049708-7d4c-4e01-e00a-2d41512baa9b"
      },
      "execution_count": 28,
      "outputs": [
        {
          "output_type": "stream",
          "name": "stdout",
          "text": [
            "11\n",
            "12\n",
            "11\n"
          ]
        }
      ]
    },
    {
      "cell_type": "code",
      "source": [],
      "metadata": {
        "id": "uQRLJu71kmFR"
      },
      "execution_count": null,
      "outputs": []
    },
    {
      "cell_type": "code",
      "source": [
        "class Filme():\n",
        "  def __init__(self, nome, ano, duracao):\n",
        "    self.__nome = nome.title()\n",
        "    self.ano = ano\n",
        "    self.duracao = duracao\n",
        "    self.__likes = 0\n",
        "\n",
        "  @property\n",
        "  def likes (self):\n",
        "    return self.__likes\n",
        "  \n",
        "  def dar_likes (self):\n",
        "    self. __likes += 1\n",
        "\n",
        "  @property\n",
        "  def nome (self):\n",
        "    return self.__nome\n",
        "\n",
        "  @nome.setter\n",
        "  def nome (self, novo_nome):\n",
        "    self.__nome = novo_nome.title()\n",
        "\n",
        "  \n",
        "class Serie:\n",
        "    def __init__(self, nome, ano, temporadas):\n",
        "      self. __nome = nome.title()\n",
        "      self.ano = ano\n",
        "      self.temporadas = temporadas\n",
        "      self. __like = 0\n",
        "\n",
        "    @property\n",
        "    def likes (self):\n",
        "      return self. __likes\n",
        "\n",
        "    def dar_likes (self):\n",
        "      self. __likes += 1\n",
        "\n",
        "    @property\n",
        "    def nome (self):\n",
        "      return self. __nome\n",
        "\n",
        "    @nome.setter\n",
        "    def nome (self, novo_nome):\n",
        "      self. __nome = noovo_nome.title()\n",
        "\n",
        "vingadores = Filme ('vingadores - guerra infinita', 2018, 160)\n",
        "print(vingadores.nome)\n",
        "\n",
        "atlanta = Serie ('atlanta', 2018, 2)\n",
        "print (f'Nome {atlanta.nome} Ano: {atlanta.ano}')\n",
        "\n"
      ],
      "metadata": {
        "colab": {
          "base_uri": "https://localhost:8080/"
        },
        "id": "bXT7fRcmkNiQ",
        "outputId": "3281ce74-91db-4a6c-a99f-cf8cb083f25d"
      },
      "execution_count": 31,
      "outputs": [
        {
          "output_type": "stream",
          "name": "stdout",
          "text": [
            "Vingadores - Guerra Infinita\n",
            "Nome None Ano: 2018\n"
          ]
        }
      ]
    },
    {
      "cell_type": "code",
      "source": [
        "#HERANÇA\n",
        "\n",
        "class Programa:\n",
        "  def __init__(self, nome, ano):\n",
        "    self.__nome = nome.title()\n",
        "    self.ano = ano\n",
        "    self. __like = 0\n",
        "\n",
        "    @property\n",
        "    def likes (self):\n",
        "      return self. __likes\n",
        "\n",
        "    def dar_likes (self):\n",
        "      self.__likes += 1\n",
        "\n",
        "    @property\n",
        "    def nome (self):\n",
        "      return self.__nome\n",
        "\n",
        "    @nome.setter\n",
        "    def nome (self, novo_nome):\n",
        "      self.__nome = novo_nome.title()\n",
        "      "
      ],
      "metadata": {
        "id": "F0nY0oQ4nNX1"
      },
      "execution_count": 32,
      "outputs": []
    }
  ]
}