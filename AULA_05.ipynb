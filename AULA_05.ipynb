{
  "nbformat": 4,
  "nbformat_minor": 0,
  "metadata": {
    "colab": {
      "provenance": [],
      "collapsed_sections": [],
      "authorship_tag": "ABX9TyPQWDCSiqMyifgykI3h6Ptx",
      "include_colab_link": true
    },
    "kernelspec": {
      "name": "python3",
      "display_name": "Python 3"
    },
    "language_info": {
      "name": "python"
    }
  },
  "cells": [
    {
      "cell_type": "markdown",
      "metadata": {
        "id": "view-in-github",
        "colab_type": "text"
      },
      "source": [
        "<a href=\"https://colab.research.google.com/github/Diegoeverton/python_web/blob/main/AULA_05.ipynb\" target=\"_parent\"><img src=\"https://colab.research.google.com/assets/colab-badge.svg\" alt=\"Open In Colab\"/></a>"
      ]
    },
    {
      "cell_type": "markdown",
      "source": [
        "METODOS E FUNCOES EM PYTHON"
      ],
      "metadata": {
        "id": "V9LBclcR4P1u"
      }
    },
    {
      "cell_type": "code",
      "execution_count": 1,
      "metadata": {
        "colab": {
          "base_uri": "https://localhost:8080/"
        },
        "id": "mA44nVKN4H0w",
        "outputId": "34b4802e-e5c3-4065-86f5-2085d7164bf7"
      },
      "outputs": [
        {
          "output_type": "stream",
          "name": "stdout",
          "text": [
            "Help on built-in function append:\n",
            "\n",
            "append(object, /) method of builtins.list instance\n",
            "    Append object to the end of the list.\n",
            "\n"
          ]
        }
      ],
      "source": [
        "# para conhecer metodos voce pode utilizar a funcao help: help(lista.append) e o python te retorna o que este metodo faz no seu objeto\n",
        "lista = []\n",
        "help(lista.append)"
      ]
    },
    {
      "cell_type": "code",
      "source": [
        "# para listar todos os metoos e atributos de um objeto, basta utilizar o dir ex:\n",
        "dir(list)"
      ],
      "metadata": {
        "id": "O5EFsqG05L43"
      },
      "execution_count": null,
      "outputs": []
    },
    {
      "cell_type": "code",
      "source": [
        "# funcoes sao blocos de instrucao que podem ser invocados de qualquer poarte do nosso codigo, sem precisar reescrever\n",
        "#toda funcao, por definicao, possui um nome, pode recber parametros \n",
        "#NEM TODA FUNCAO RECEBERA PARAMETTROS =- NEM TODOA FUNCAO RETORNARÃ VALORES\n",
        "\n",
        "#SNTAEXE\n",
        "\"\"\"def nomedafuncao (agr1, arg2, arg3)\n",
        "   bloco de comandos\n",
        "   return (retorno desejado)\"\"\""
      ],
      "metadata": {
        "id": "tKA_TWdz5YKX",
        "colab": {
          "base_uri": "https://localhost:8080/",
          "height": 35
        },
        "outputId": "95059db9-ebe7-4b09-e3c4-a514d07f7fea"
      },
      "execution_count": 3,
      "outputs": [
        {
          "output_type": "execute_result",
          "data": {
            "text/plain": [
              "'def nomedafuncao (agr1, arg2, arg3)\\n   bloco de comandos\\n   return (retorno desejado)'"
            ],
            "application/vnd.google.colaboratory.intrinsic+json": {
              "type": "string"
            }
          },
          "metadata": {},
          "execution_count": 3
        }
      ]
    },
    {
      "cell_type": "markdown",
      "source": [
        "POO - PROGRAMACAO ORIENTADA A OBJETOS"
      ],
      "metadata": {
        "id": "KAGcC9ar7E8u"
      }
    },
    {
      "cell_type": "code",
      "source": [
        "# A VRIAVEL EM SI JÃ ~E UM OBJETO\n",
        "# UMACLASSE DESCREVE OS SERVICOS OFERECIDOS POR SEU OBJETIVOS E QUAIS INFORMACOES \n",
        "\n",
        "#CLASSE - (METODOS - ATRIBUTOS ) - OBJETO\n",
        "# CLASSE - CADASTRO \n",
        "\"\"\"ATRIBUTOS - DADOS DA CLASSE - ESTATICO\n",
        "METODOS - ACAO DA CLASSE  (VERBO)\n",
        "ITENS / PESSOAS CADASTRADAS\n",
        "OBJETOS - INSTANCIA (PUXAR) DE CADA CLASSE \"\"\""
      ],
      "metadata": {
        "colab": {
          "base_uri": "https://localhost:8080/",
          "height": 35
        },
        "id": "d0XtU8d-7Ib7",
        "outputId": "632ccbc3-47a7-430f-890b-836bac9475ff"
      },
      "execution_count": 4,
      "outputs": [
        {
          "output_type": "execute_result",
          "data": {
            "text/plain": [
              "'ATRIBUTOS - DADOS DA CLASSE - ESTATICO\\nMETODOS - ACAO DA CLASSE  (VERBO)\\nITENS / PESSOAS CADASTRADAS\\nOBJETOS - INSTANCIA (PUXAR) DE CADA CLASSE '"
            ],
            "application/vnd.google.colaboratory.intrinsic+json": {
              "type": "string"
            }
          },
          "metadata": {},
          "execution_count": 4
        }
      ]
    },
    {
      "cell_type": "code",
      "source": [
        "class NomeDeClasse():\n",
        "  #contrutor da classe\n",
        "  def __init__(self):\n",
        "    #atruibutos\n",
        "    self.atributo1 = valor1\n",
        "\n",
        "    self.atributoN = valorN\n",
        "\n",
        "  def exemploDeFuncao(self):\n",
        "    return \"Essa e uma funcao!\"\n",
        "\n",
        "  def exemploDeMetodo(self):\n",
        "    print (\"Esse e um metodo!\")\n",
        "                "
      ],
      "metadata": {
        "id": "P1yZCokF_a9D"
      },
      "execution_count": 5,
      "outputs": []
    },
    {
      "cell_type": "code",
      "source": [
        "class ContaCorrete ():\n",
        "  def __init__(self):\n",
        "    self.numConta = 100\n",
        "    self.nomeTitular = \"Camila\"\n",
        "  \n",
        "  def __init__ (self, numConta, nomeTitular):\n",
        "    self.numConta = numConta\n",
        "    self.nomeTitular = nomeTitular\n",
        "  \n",
        "  def __init__(self, numConta, nomeTitular, saldo):\n",
        "    self.numConta = numConta\n",
        "    self.nomeTitular = nomeTitular\n",
        "    self.saldo = saldo\n"
      ],
      "metadata": {
        "id": "ZBuLlqmIBA70"
      },
      "execution_count": 6,
      "outputs": []
    },
    {
      "cell_type": "code",
      "source": [
        "class lar(): #   CLASSE \n",
        "  def toctoc (self, pessoa1=None, pessoa2=None): \n",
        "    if pessoa1 is not None and pessoa2 is None: # se pessoa1 nao for ninguem e pessoa2 for ninguem  printe ola\n",
        "      print(\"Ola, \" + pessoa1)\n",
        "    elif pessoa1 is not None and pessoa2 is not None:\n",
        "      print(\"Ola, \" + pessoa1 + \" e \" + pessoa2)\n",
        "    else:\n",
        "      print(\"Quem esta ai \")\n",
        "\n",
        "batendoNaPorta  = lar()\n",
        "\n"
      ],
      "metadata": {
        "id": "Pvr_CfEGEJD1"
      },
      "execution_count": 7,
      "outputs": []
    },
    {
      "cell_type": "code",
      "source": [
        "#sobrecaga do metodo toc toc\n",
        "batendoNaPorta.toctoc () # INSTACIA DA CLASSE lar\n",
        "batendoNaPorta.toctoc (\"Rick\", \"Morty\")\n",
        "batendoNaPorta.toctoc (\"Professora Amanda\")"
      ],
      "metadata": {
        "id": "ZiukI6vfGLFk",
        "colab": {
          "base_uri": "https://localhost:8080/"
        },
        "outputId": "29f6ae2b-d7ec-4378-cefb-3e93cb48418b"
      },
      "execution_count": 8,
      "outputs": [
        {
          "output_type": "stream",
          "name": "stdout",
          "text": [
            "Quem esta ai \n",
            "Ola, Rick e Morty\n",
            "Ola, Professora Amanda\n"
          ]
        }
      ]
    },
    {
      "cell_type": "code",
      "source": [
        "#CRIANDO UMA CLASSE  self e sempre o primeiro parametro de todos os metodos chamado por uma instancia de uma classe (ou seja, um objeto) self esta sempre apontando para o objeto atual\n",
        "\n",
        "#CRIANDO UMA CLASSE\n",
        "\n",
        "class Animal():\n",
        "#contrutor de clase\n",
        "  def __init__(self):\n",
        "    #atributos\n",
        "    self.nome = nome\n",
        "    self.peso = weight\n",
        "    self.corDoPelo = color\n",
        "  \n",
        "  def imprimiDados(self):\n",
        "    return (\"Nome %s \\nPeso: %s \" %(self.nome, self.peso))\n",
        "    #return (f\"Nome {} \\nPeso: {} \".(self.nome, self.peso))\n",
        "\n",
        "  def latir(self,barulho):\n",
        "    print(barulho)\n"
      ],
      "metadata": {
        "id": "-qdhB5ChIMHc"
      },
      "execution_count": 9,
      "outputs": []
    },
    {
      "cell_type": "code",
      "source": [
        "#INSTACIAMOS UM ONJETO CACHORRO\n",
        "\n",
        "caozinho = Animal(\"Marlene\", 7.9, \"Caramelo\")\n",
        "gato = Animal (\"Cibele\", 4.5, \"Cinza\")\n",
        "\n",
        "#CHAMANDO UM METODO DO OBJETO CRIADO\n",
        "\n",
        "print(caozinho.imprimiDados())\n",
        "caozinho.latir(\"au, au\")\n",
        "\n",
        "print(gato.imprimiDados())\n",
        "gato.latir(\"Miau\")"
      ],
      "metadata": {
        "colab": {
          "base_uri": "https://localhost:8080/",
          "height": 241
        },
        "id": "wkSWgPrGLk6s",
        "outputId": "afe5a6b6-de70-47c1-feeb-d9df20cfc2c0"
      },
      "execution_count": 10,
      "outputs": [
        {
          "output_type": "error",
          "ename": "TypeError",
          "evalue": "ignored",
          "traceback": [
            "\u001b[0;31m---------------------------------------------------------------------------\u001b[0m",
            "\u001b[0;31mTypeError\u001b[0m                                 Traceback (most recent call last)",
            "\u001b[0;32m<ipython-input-10-38cceb7a2d52>\u001b[0m in \u001b[0;36m<module>\u001b[0;34m\u001b[0m\n\u001b[1;32m      1\u001b[0m \u001b[0;31m#INSTACIAMOS UM ONJETO CACHORRO\u001b[0m\u001b[0;34m\u001b[0m\u001b[0;34m\u001b[0m\u001b[0;34m\u001b[0m\u001b[0m\n\u001b[1;32m      2\u001b[0m \u001b[0;34m\u001b[0m\u001b[0m\n\u001b[0;32m----> 3\u001b[0;31m \u001b[0mcaozinho\u001b[0m \u001b[0;34m=\u001b[0m \u001b[0mAnimal\u001b[0m\u001b[0;34m(\u001b[0m\u001b[0;34m\"Marlene\"\u001b[0m\u001b[0;34m,\u001b[0m \u001b[0;36m7.9\u001b[0m\u001b[0;34m,\u001b[0m \u001b[0;34m\"Caramelo\"\u001b[0m\u001b[0;34m)\u001b[0m\u001b[0;34m\u001b[0m\u001b[0;34m\u001b[0m\u001b[0m\n\u001b[0m\u001b[1;32m      4\u001b[0m \u001b[0mgato\u001b[0m \u001b[0;34m=\u001b[0m \u001b[0mAnimal\u001b[0m \u001b[0;34m(\u001b[0m\u001b[0;34m\"Cibele\"\u001b[0m\u001b[0;34m,\u001b[0m \u001b[0;36m4.5\u001b[0m\u001b[0;34m,\u001b[0m \u001b[0;34m\"Cinza\"\u001b[0m\u001b[0;34m)\u001b[0m\u001b[0;34m\u001b[0m\u001b[0;34m\u001b[0m\u001b[0m\n\u001b[1;32m      5\u001b[0m \u001b[0;34m\u001b[0m\u001b[0m\n",
            "\u001b[0;31mTypeError\u001b[0m: __init__() takes 1 positional argument but 4 were given"
          ]
        }
      ]
    },
    {
      "cell_type": "code",
      "source": [
        "#CRIANDO UMA NOVA CLASSE\n",
        "class Livro():\n",
        "  #este metodo vai inicializar cada objeto criado a partir desta classe\n",
        "  def __init__ (self):\n",
        "\n",
        "    #atributos de cada objeto criado a partir desta classe\n",
        "    #o self indica que estes sao atributos dos objetivos\n",
        "    self.titulo = \"O monge e o Executivo\"\n",
        "    self.isbn = 9988888\n",
        "    print(\"Constriutor chamando par criar um objetivo desta classe\")\n",
        "\n",
        "    def imprime (self):\n",
        "      print(\"Foi criado o livro %s e ISBN %S\" %(self.titulo, self.isbn))"
      ],
      "metadata": {
        "id": "faZBahi7QGIM"
      },
      "execution_count": null,
      "outputs": []
    },
    {
      "cell_type": "code",
      "source": [
        "#CRIANDO UMA INSTANCIA DA CLASSE LIVRO\n",
        "Livro1 = Livro()\n"
      ],
      "metadata": {
        "id": "VqUeEF1_RrA0"
      },
      "execution_count": null,
      "outputs": []
    },
    {
      "cell_type": "code",
      "source": [
        "# tipo do objeto livro\n",
        "type(Livro1)"
      ],
      "metadata": {
        "id": "2yEF8TumR1GO"
      },
      "execution_count": null,
      "outputs": []
    },
    {
      "cell_type": "code",
      "source": [
        "# atributo do objeto Livro\n",
        "Livro1.titulo"
      ],
      "metadata": {
        "id": "_huXmr2lUDej"
      },
      "execution_count": null,
      "outputs": []
    },
    {
      "cell_type": "code",
      "source": [
        "#nmetodo do objeto livro1\n",
        "Livro1.imprime(ti)"
      ],
      "metadata": {
        "id": "QXzOgXjIUfJb"
      },
      "execution_count": null,
      "outputs": []
    },
    {
      "cell_type": "code",
      "source": [
        "# criando uma classe livro com primeiros no metodo construtor\n",
        "class Livro():\n",
        "  def __init__ (self, titulo, isbn):\n",
        "    self.titulo = titulo\n",
        "    self.isbn = isbn\n",
        "    print(\"Construtor chamado para criar um projeto desta classe\")\n",
        "\n",
        "  def imprime(self, titulo,isbn):\n",
        "    print(\"Este e o livro %s e ISBN %d\" %(titulo, isbn))\n"
      ],
      "metadata": {
        "id": "rEdj_SQnUppR"
      },
      "execution_count": null,
      "outputs": []
    },
    {
      "cell_type": "code",
      "source": [
        "#criando o objetivo livro2 que e uma instancia de classe livro\n",
        "Livro2 = Livro(\"A menina que roubava livro\", 7788611)\n"
      ],
      "metadata": {
        "id": "djagZm72WKED"
      },
      "execution_count": null,
      "outputs": []
    },
    {
      "cell_type": "code",
      "source": [
        "Livro2.titulo"
      ],
      "metadata": {
        "id": "LkoorwlXW8d7"
      },
      "execution_count": null,
      "outputs": []
    },
    {
      "cell_type": "code",
      "source": [],
      "metadata": {
        "id": "3H9GBJbEWfm8"
      },
      "execution_count": null,
      "outputs": []
    },
    {
      "cell_type": "code",
      "source": [
        "# criando uma classe anuinal - SUPER CLASSE\n",
        "\n",
        "class Animal ():\n",
        "  def __init__ (self):\n",
        "    print (\"Animal criado\")\n",
        "\n",
        "  def indentif (self):\n",
        "    print(\"Animal\")\n",
        "\n",
        "  def comer (self):\n",
        "    print(\"Comendo\")"
      ],
      "metadata": {
        "id": "gILQNUH6YD9L"
      },
      "execution_count": null,
      "outputs": []
    },
    {
      "cell_type": "code",
      "source": [],
      "metadata": {
        "id": "7aMGaqr2Yp4a"
      },
      "execution_count": null,
      "outputs": []
    },
    {
      "cell_type": "code",
      "source": [
        "\n",
        "#HERANCAS\n",
        "#class ClasseMae ():\n",
        "\"\"\"def __init__ (self, atributo1):\n",
        "  self.atributo = atributo1\n",
        "  print(\"Essa e a classe mae !\")\"\"\"\n",
        "#class ClasseFilha (CalsseMae)\n",
        "\"\"\"def __init__ (self, atributo1, atributo2):\n",
        "  super(). __init__ (atributo1)\n",
        "  self.atributo2 = atributo2\n",
        "  print(\"Essa e a classe herdeira!\")\"\"\""
      ],
      "metadata": {
        "id": "_MRL7urRZujL"
      },
      "execution_count": null,
      "outputs": []
    },
    {
      "cell_type": "code",
      "source": [
        "# criando uma classe Cachorro - SUb-classe\n",
        "class Cachorro (Animal):\n",
        "  def __init__ (self):\n",
        "    Animal. __init__ (self)\n",
        "    print(\"Objeto cachorro criado\")\n",
        "  \n",
        "  def identif (self):\n",
        "    print (\"Cachorro\")\n",
        "\n",
        "  def latir (self):\n",
        "    print(\"Au, au !\")"
      ],
      "metadata": {
        "id": "reWWDrFFbd1a"
      },
      "execution_count": null,
      "outputs": []
    },
    {
      "cell_type": "code",
      "source": [
        "# criando um objetivo (instanciando classe)\n",
        "rex = Cachorro ()"
      ],
      "metadata": {
        "id": "E-V3GGJ9cgbS"
      },
      "execution_count": null,
      "outputs": []
    },
    {
      "cell_type": "code",
      "source": [
        "#executando o metodo da classe cachorro (su-clase)\n",
        "rex.identif()"
      ],
      "metadata": {
        "id": "NhR1lty2cpL8"
      },
      "execution_count": null,
      "outputs": []
    },
    {
      "cell_type": "code",
      "source": [
        "#execuatando o metodo da classe animal (super classe)\n",
        "rex.comer()"
      ],
      "metadata": {
        "id": "-nLjYXRdcz4b"
      },
      "execution_count": null,
      "outputs": []
    },
    {
      "cell_type": "code",
      "source": [
        "# executando  o metodo de casse cachorro (sub classe)\n",
        "rex.latir()"
      ],
      "metadata": {
        "id": "qbJSTVs1c8BP"
      },
      "execution_count": null,
      "outputs": []
    },
    {
      "cell_type": "code",
      "source": [
        "class Pessoa ():\n",
        "  def __init__ (self.nome, idade):\n",
        "    self. nome = str(input(\"Nome: \"))\n",
        "    self.idade = int (input(\"idade: \"))\n",
        "\n",
        "  def imprimi(self.nome, idade):\n",
        "    prit (\"Nome: %s\" + \"idade: %s\" %())\n",
        "\n",
        "  def anoNasc (self, idade):\n",
        "    return (2022 - idade)\n",
        "\n",
        "   \n",
        "\n"
      ],
      "metadata": {
        "id": "KES4It4xdYQs"
      },
      "execution_count": null,
      "outputs": []
    }
  ]
}