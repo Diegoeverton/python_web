{
  "nbformat": 4,
  "nbformat_minor": 0,
  "metadata": {
    "colab": {
      "provenance": [],
      "authorship_tag": "ABX9TyPC99oaVOhdCDfC9mmbj+fJ",
      "include_colab_link": true
    },
    "kernelspec": {
      "name": "python3",
      "display_name": "Python 3"
    },
    "language_info": {
      "name": "python"
    }
  },
  "cells": [
    {
      "cell_type": "markdown",
      "metadata": {
        "id": "view-in-github",
        "colab_type": "text"
      },
      "source": [
        "<a href=\"https://colab.research.google.com/github/Diegoeverton/python_web/blob/main/EXERCICIO_AULA_03_LISTA%2C_TUPIAS_E_DICIONARIOS.ipynb\" target=\"_parent\"><img src=\"https://colab.research.google.com/assets/colab-badge.svg\" alt=\"Open In Colab\"/></a>"
      ]
    },
    {
      "cell_type": "code",
      "execution_count": null,
      "metadata": {
        "id": "aJXH8o1F1-kY"
      },
      "outputs": [],
      "source": []
    },
    {
      "cell_type": "markdown",
      "source": [
        "Digite os comandos na sequência:"
      ],
      "metadata": {
        "id": "nVp7ubBA2JjU"
      }
    },
    {
      "cell_type": "code",
      "source": [
        "palavras = [\"codigo\", \"linguagem\", \"web\"]\n"
      ],
      "metadata": {
        "id": "8YiWxGpN2LlT"
      },
      "execution_count": null,
      "outputs": []
    },
    {
      "cell_type": "code",
      "source": [
        "numeros = [18, 123]"
      ],
      "metadata": {
        "id": "04_BQg-l2u1F"
      },
      "execution_count": null,
      "outputs": []
    },
    {
      "cell_type": "code",
      "source": [
        "vazia = []"
      ],
      "metadata": {
        "id": "-PE5ExYu3CgL"
      },
      "execution_count": null,
      "outputs": []
    },
    {
      "cell_type": "code",
      "source": [
        "lista_mista = [\"oi\", 2.0, 5.2, [10, 20]]"
      ],
      "metadata": {
        "id": "JbTqc2T83Mtj"
      },
      "execution_count": null,
      "outputs": []
    },
    {
      "cell_type": "code",
      "source": [
        "print(numeros)"
      ],
      "metadata": {
        "colab": {
          "base_uri": "https://localhost:8080/"
        },
        "id": "9Yna6idH3TH8",
        "outputId": "2aececc2-c1b5-40bc-ac10-9077690da436"
      },
      "execution_count": null,
      "outputs": [
        {
          "output_type": "stream",
          "name": "stdout",
          "text": [
            "[18, 123]\n"
          ]
        }
      ]
    },
    {
      "cell_type": "code",
      "source": [
        "print(lista_mista)"
      ],
      "metadata": {
        "colab": {
          "base_uri": "https://localhost:8080/"
        },
        "id": "t6GWWCMX38eE",
        "outputId": "4989c480-f34c-4414-fe60-3f9f40ef2ca5"
      },
      "execution_count": null,
      "outputs": [
        {
          "output_type": "stream",
          "name": "stdout",
          "text": [
            "['oi', 2.0, 5.2, [10, 20]]\n"
          ]
        }
      ]
    },
    {
      "cell_type": "code",
      "source": [
        "nova_lista = [numeros, palavras]"
      ],
      "metadata": {
        "id": "o2U2FhPB3_ho"
      },
      "execution_count": null,
      "outputs": []
    },
    {
      "cell_type": "code",
      "source": [
        "print(nova_lista)"
      ],
      "metadata": {
        "colab": {
          "base_uri": "https://localhost:8080/"
        },
        "id": "nXbHBE3p4F6o",
        "outputId": "72c4a71a-3822-4326-81fb-5ca6a3929332"
      },
      "execution_count": null,
      "outputs": [
        {
          "output_type": "stream",
          "name": "stdout",
          "text": [
            "[[18, 123], ['codigo', 'linguagem', 'web']]\n"
          ]
        }
      ]
    },
    {
      "cell_type": "markdown",
      "source": [
        "2. Digite os comandos na sequência:"
      ],
      "metadata": {
        "id": "95_Jcdev4Vop"
      }
    },
    {
      "cell_type": "code",
      "source": [
        "  uma_lista = [\"oi\", 2.0, 5, [10, 20]]\n"
      ],
      "metadata": {
        "id": "9qIqZU134Kh8"
      },
      "execution_count": null,
      "outputs": []
    },
    {
      "cell_type": "code",
      "source": [
        "print(len(uma_lista))"
      ],
      "metadata": {
        "colab": {
          "base_uri": "https://localhost:8080/"
        },
        "id": "LiiZS22P4p8P",
        "outputId": "942b6742-b734-4e5d-bd27-46311f0d1d62"
      },
      "execution_count": null,
      "outputs": [
        {
          "output_type": "stream",
          "name": "stdout",
          "text": [
            "4\n"
          ]
        }
      ]
    },
    {
      "cell_type": "code",
      "source": [
        "print(len(['spam!',1,['bolo', 'bolacha', 'biscoto'],[1, 2 ,3]]))"
      ],
      "metadata": {
        "colab": {
          "base_uri": "https://localhost:8080/"
        },
        "id": "0rJkY4p04vgl",
        "outputId": "0f93449e-57cf-416d-e080-f9a365affefd"
      },
      "execution_count": null,
      "outputs": [
        {
          "output_type": "stream",
          "name": "stdout",
          "text": [
            "4\n"
          ]
        }
      ]
    },
    {
      "cell_type": "markdown",
      "source": [
        "3. O que é impresso pelo trecho de código a seguir?"
      ],
      "metadata": {
        "id": "9PXpqX7-5avU"
      }
    },
    {
      "cell_type": "code",
      "source": [
        "numeros = [18, 424, 86, 13, 66, 8338, 74]"
      ],
      "metadata": {
        "id": "gUKYD0-45DDz"
      },
      "execution_count": null,
      "outputs": []
    },
    {
      "cell_type": "code",
      "source": [
        "print(numeros[2])"
      ],
      "metadata": {
        "colab": {
          "base_uri": "https://localhost:8080/"
        },
        "id": "IFyIVXmI5ruO",
        "outputId": "0af898a3-0f3f-4e97-b320-71d21132b1c3"
      },
      "execution_count": null,
      "outputs": [
        {
          "output_type": "stream",
          "name": "stdout",
          "text": [
            "86\n"
          ]
        }
      ]
    },
    {
      "cell_type": "code",
      "source": [
        "print(numeros[9-8])"
      ],
      "metadata": {
        "colab": {
          "base_uri": "https://localhost:8080/"
        },
        "id": "SScFYxk45wKC",
        "outputId": "78488828-812f-497f-fa9a-98e6b7329173"
      },
      "execution_count": null,
      "outputs": [
        {
          "output_type": "stream",
          "name": "stdout",
          "text": [
            "424\n"
          ]
        }
      ]
    },
    {
      "cell_type": "code",
      "source": [
        "print(numeros[-2])"
      ],
      "metadata": {
        "colab": {
          "base_uri": "https://localhost:8080/"
        },
        "id": "Y8EtNqay56pk",
        "outputId": "41b57d19-fc79-40f8-b152-b5456fefa818"
      },
      "execution_count": null,
      "outputs": [
        {
          "output_type": "stream",
          "name": "stdout",
          "text": [
            "8338\n"
          ]
        }
      ]
    },
    {
      "cell_type": "code",
      "source": [
        "print(numeros[len(numeros)-1])"
      ],
      "metadata": {
        "colab": {
          "base_uri": "https://localhost:8080/"
        },
        "id": "QWR3tk9t6EEC",
        "outputId": "9b79cd3c-d432-4109-c22f-ced7fd1ac5fd"
      },
      "execution_count": null,
      "outputs": [
        {
          "output_type": "stream",
          "name": "stdout",
          "text": [
            "74\n"
          ]
        }
      ]
    },
    {
      "cell_type": "markdown",
      "source": [
        "4. O que é impresso pelo trecho de código a seguir?"
      ],
      "metadata": {
        "id": "rvN-YKjM6RJB"
      }
    },
    {
      "cell_type": "code",
      "source": [
        "uma_lista = [3, 5, \"Cibele\", 3.14, False]"
      ],
      "metadata": {
        "id": "f1DMBVCr6LNm"
      },
      "execution_count": null,
      "outputs": []
    },
    {
      "cell_type": "code",
      "source": [
        "print(len(uma_lista))"
      ],
      "metadata": {
        "colab": {
          "base_uri": "https://localhost:8080/"
        },
        "id": "VHwC6zfu6exD",
        "outputId": "56c485a1-26ab-4f11-999d-bcb455ab73f6"
      },
      "execution_count": null,
      "outputs": [
        {
          "output_type": "stream",
          "name": "stdout",
          "text": [
            "5\n"
          ]
        }
      ]
    },
    {
      "cell_type": "markdown",
      "source": [
        "5. O que é impresso pelo trecho de código a seguir?"
      ],
      "metadata": {
        "id": "Vu_STAkm6oxK"
      }
    },
    {
      "cell_type": "code",
      "source": [
        "uma_lista = [3, 5, \"Cibele\", [88, 99, \"Suely\"], [ ], 3.14, False]"
      ],
      "metadata": {
        "id": "dpgjpsoU6i4c"
      },
      "execution_count": null,
      "outputs": []
    },
    {
      "cell_type": "code",
      "source": [
        "print(len(uma_lista))"
      ],
      "metadata": {
        "colab": {
          "base_uri": "https://localhost:8080/"
        },
        "id": "Dn4GnIHq6s4N",
        "outputId": "dc8d2937-b58d-4228-d060-5ed36a076b5c"
      },
      "execution_count": null,
      "outputs": [
        {
          "output_type": "stream",
          "name": "stdout",
          "text": [
            "7\n"
          ]
        }
      ]
    },
    {
      "cell_type": "markdown",
      "source": [
        "6. O que é impresso pelo trecho de código a seguir?\n"
      ],
      "metadata": {
        "id": "TLIFVkWE642k"
      }
    },
    {
      "cell_type": "code",
      "source": [
        "uma_lista = [3, 5, \"Cibele\", [88, 99, \"Suely\"], [ ], 3.14, False]\n",
        "print(uma_lista[5])"
      ],
      "metadata": {
        "colab": {
          "base_uri": "https://localhost:8080/"
        },
        "id": "-cZFl04f6u6L",
        "outputId": "58a0b51b-5fc4-4679-d9aa-142f3795717c"
      },
      "execution_count": null,
      "outputs": [
        {
          "output_type": "stream",
          "name": "stdout",
          "text": [
            "3.14\n"
          ]
        }
      ]
    },
    {
      "cell_type": "markdown",
      "source": [
        "7. O que é impresso pelo trecho de código a seguir?"
      ],
      "metadata": {
        "id": "DbEDF0xZ7YFx"
      }
    },
    {
      "cell_type": "code",
      "source": [
        "uma_lista = [3, 5, \"Cibele\", [88, 99, \"Suely\"], [ ], 3.14, False]\n",
        "print(uma_lista[2].upper())"
      ],
      "metadata": {
        "colab": {
          "base_uri": "https://localhost:8080/"
        },
        "id": "G7AhLmfe666_",
        "outputId": "f2875f66-a2c0-4396-c886-b34bfc805c21"
      },
      "execution_count": null,
      "outputs": [
        {
          "output_type": "stream",
          "name": "stdout",
          "text": [
            "CIBELE\n"
          ]
        }
      ]
    },
    {
      "cell_type": "markdown",
      "source": [
        "8. O que é impresso pelo trecho de código a seguir?"
      ],
      "metadata": {
        "id": "0tSO96ff75DD"
      }
    },
    {
      "cell_type": "code",
      "source": [
        "uma_lista = [3, 5, \"Cibele\", [88, 99, \"Suely\"], [ ], 3.14, False]\n",
        "print(uma_lista[2][0])"
      ],
      "metadata": {
        "colab": {
          "base_uri": "https://localhost:8080/"
        },
        "id": "OSs8AMN87juz",
        "outputId": "c167823d-e7c1-4cd7-c77c-306d29796b3b"
      },
      "execution_count": null,
      "outputs": [
        {
          "output_type": "stream",
          "name": "stdout",
          "text": [
            "C\n"
          ]
        }
      ]
    },
    {
      "cell_type": "markdown",
      "source": [
        "9. O que é impresso pelo trecho de código a seguir?"
      ],
      "metadata": {
        "id": "EbN5YBJk8JNi"
      }
    },
    {
      "cell_type": "code",
      "source": [
        "uma_lista = [3, 5, \"Cibele\", [88, 99, \"Suely\"], [ ], 3.14, False]\n",
        "print(3.14 in uma_lista)"
      ],
      "metadata": {
        "colab": {
          "base_uri": "https://localhost:8080/"
        },
        "id": "DC4zSRpA7-Fp",
        "outputId": "bbf3e9ab-0b61-43bc-b701-186bd2b1a335"
      },
      "execution_count": null,
      "outputs": [
        {
          "output_type": "stream",
          "name": "stdout",
          "text": [
            "True\n"
          ]
        }
      ]
    },
    {
      "cell_type": "markdown",
      "source": [
        "10. O que é impresso pelo trecho de código a seguir?"
      ],
      "metadata": {
        "id": "Z2oH4j6c8XsP"
      }
    },
    {
      "cell_type": "code",
      "source": [
        "uma_lista = [3, 5, \"Cibele\", [88, 99, \"Suely\"], [ ], 3.14, False]\n",
        "print(88 in uma_lista)"
      ],
      "metadata": {
        "colab": {
          "base_uri": "https://localhost:8080/"
        },
        "id": "8nn2dhfv8M2j",
        "outputId": "ee2f719c-ec3a-4fc3-8e5c-0d5a1cbb53b5"
      },
      "execution_count": null,
      "outputs": [
        {
          "output_type": "stream",
          "name": "stdout",
          "text": [
            "False\n"
          ]
        }
      ]
    },
    {
      "cell_type": "markdown",
      "source": [
        "11. O que é impresso pelo trecho de código a seguir?"
      ],
      "metadata": {
        "id": "xMpPXPKC8jmb"
      }
    },
    {
      "cell_type": "code",
      "source": [
        "uma_lista = [1, 3, 5]\n",
        "outra_lista = [2, 4, 6]\n",
        "print(uma_lista + outra_lista)"
      ],
      "metadata": {
        "colab": {
          "base_uri": "https://localhost:8080/"
        },
        "id": "VLDHwqJe8dUo",
        "outputId": "7220f5fd-aa20-4b13-f47e-b88a070ab42a"
      },
      "execution_count": null,
      "outputs": [
        {
          "output_type": "stream",
          "name": "stdout",
          "text": [
            "[1, 3, 5, 2, 4, 6]\n"
          ]
        }
      ]
    },
    {
      "cell_type": "markdown",
      "source": [
        "12. O que é impresso pelo trecho de código a seguir?"
      ],
      "metadata": {
        "id": "0ki00sv-8sOY"
      }
    },
    {
      "cell_type": "code",
      "source": [
        "uma_lista = [1, 3, 5]\n",
        "print(uma_lista * 3)"
      ],
      "metadata": {
        "colab": {
          "base_uri": "https://localhost:8080/"
        },
        "id": "7SpmqeQu8nVP",
        "outputId": "3ea4e2a0-f1c6-423b-ec50-95cf5247da96"
      },
      "execution_count": null,
      "outputs": [
        {
          "output_type": "stream",
          "name": "stdout",
          "text": [
            "[1, 3, 5, 1, 3, 5, 1, 3, 5]\n"
          ]
        }
      ]
    },
    {
      "cell_type": "markdown",
      "source": [
        "13. O que é impresso pelo trecho de código a seguir?"
      ],
      "metadata": {
        "id": "RNg1Ywzo83c2"
      }
    },
    {
      "cell_type": "code",
      "source": [
        "uma_lista = [3, 5, \"Cibele\", [88, 99, \"Suely\"], [ ], 3.14, False]\n",
        "print(uma_lista[4:])"
      ],
      "metadata": {
        "colab": {
          "base_uri": "https://localhost:8080/"
        },
        "id": "3YIY3HB58ww1",
        "outputId": "ae1bbc07-dd66-4da0-d36a-c6c3e57ea18d"
      },
      "execution_count": null,
      "outputs": [
        {
          "output_type": "stream",
          "name": "stdout",
          "text": [
            "[[], 3.14, False]\n"
          ]
        }
      ]
    },
    {
      "cell_type": "markdown",
      "source": [
        "14. O que é impresso pelo trecho de código a seguir?"
      ],
      "metadata": {
        "id": "74gvGmfy9JoL"
      }
    },
    {
      "cell_type": "code",
      "source": [
        "uma_lista = ['a', 'b', 'c', 'd', 'e', 'f']\n",
        "uma_lista[1:3] = ['x', 'y']\n",
        "print(uma_lista)"
      ],
      "metadata": {
        "colab": {
          "base_uri": "https://localhost:8080/"
        },
        "id": "xUk7ZQZu89De",
        "outputId": "e50a480c-f82d-4a95-d97c-15f9e4d3f167"
      },
      "execution_count": null,
      "outputs": [
        {
          "output_type": "stream",
          "name": "stdout",
          "text": [
            "['a', 'x', 'y', 'd', 'e', 'f']\n"
          ]
        }
      ]
    },
    {
      "cell_type": "markdown",
      "source": [
        "15. O que é impresso pelo trecho de código a seguir?"
      ],
      "metadata": {
        "id": "N3QvuulU9r5Z"
      }
    },
    {
      "cell_type": "code",
      "source": [
        "uma_lista = ['a', 'b', 'c', 'd', 'e', 'f']\n",
        "uma_lista[1:3] = []\n",
        "print(uma_lista)"
      ],
      "metadata": {
        "colab": {
          "base_uri": "https://localhost:8080/"
        },
        "id": "g8JJFxZS9XVE",
        "outputId": "6df31720-7c22-440e-ec1e-f6bd7059348f"
      },
      "execution_count": null,
      "outputs": [
        {
          "output_type": "stream",
          "name": "stdout",
          "text": [
            "['a', 'd', 'e', 'f']\n"
          ]
        }
      ]
    },
    {
      "cell_type": "markdown",
      "source": [
        "16. O que é impresso pelo trecho de código a seguir?"
      ],
      "metadata": {
        "id": "HjIyhcu--Jbo"
      }
    },
    {
      "cell_type": "code",
      "source": [
        "uma_lista = ['a', 'd', 'f']\n",
        "uma_lista[1:1] = ['b', 'c']\n",
        "print(uma_lista)\n",
        "uma_lista[4:4] = ['e']\n",
        "print(uma_lista)"
      ],
      "metadata": {
        "colab": {
          "base_uri": "https://localhost:8080/"
        },
        "id": "pUFzZ-pG9ybB",
        "outputId": "3bfb94c8-db35-40d6-e343-f4f23296079f"
      },
      "execution_count": null,
      "outputs": [
        {
          "output_type": "stream",
          "name": "stdout",
          "text": [
            "['a', 'b', 'c', 'd', 'f']\n",
            "['a', 'b', 'c', 'd', 'e', 'f']\n"
          ]
        }
      ]
    },
    {
      "cell_type": "markdown",
      "source": [
        "17. O que é impresso pelo trecho de código a seguir?"
      ],
      "metadata": {
        "id": "tK70DB__-9U8"
      }
    },
    {
      "cell_type": "code",
      "source": [
        "uma_lista = [4, 1, 8, 6, 3]\n",
        "uma_lista[2] = True\n",
        "print(uma_lista)"
      ],
      "metadata": {
        "colab": {
          "base_uri": "https://localhost:8080/"
        },
        "id": "omQxrOeo_BNV",
        "outputId": "37095c94-6b5b-4c06-f2c4-a62d82584d64"
      },
      "execution_count": null,
      "outputs": [
        {
          "output_type": "stream",
          "name": "stdout",
          "text": [
            "[4, 1, True, 6, 3]\n"
          ]
        }
      ]
    },
    {
      "cell_type": "markdown",
      "source": [
        "18. O que é impresso pelo trecho de código a seguir?"
      ],
      "metadata": {
        "id": "6haVEn-Y_LTF"
      }
    },
    {
      "cell_type": "code",
      "source": [
        "a = ['um', 'dois', 'três']\n",
        "del a[1]\n",
        "print(a)\n",
        "lista = ['a', 'b', 'c', 'd', 'e', 'f']\n",
        "del lista[1:5]\n",
        "print(lista)  "
      ],
      "metadata": {
        "colab": {
          "base_uri": "https://localhost:8080/"
        },
        "id": "vSMho5kD_DBJ",
        "outputId": "13d89792-4bd0-4838-b35d-e3f35b260a28"
      },
      "execution_count": null,
      "outputs": [
        {
          "output_type": "stream",
          "name": "stdout",
          "text": [
            "['um', 'três']\n",
            "['a', 'f']\n"
          ]
        }
      ]
    },
    {
      "cell_type": "markdown",
      "source": [
        "19. O que é impresso pelo trecho de código a seguir?"
      ],
      "metadata": {
        "id": "EHZnOaHm_d0c"
      }
    },
    {
      "cell_type": "code",
      "source": [
        "lista_a = [4, 1, 8, 6, 3]\n",
        "lista_b = lista_a\n",
        "lista_b[3] = 22\n",
        "print(lista_a)"
      ],
      "metadata": {
        "colab": {
          "base_uri": "https://localhost:8080/"
        },
        "id": "ORVOMKuN_QWg",
        "outputId": "5721f2d3-545e-40e4-9f92-78bf8cd81197"
      },
      "execution_count": null,
      "outputs": [
        {
          "output_type": "stream",
          "name": "stdout",
          "text": [
            "[4, 1, 8, 22, 3]\n"
          ]
        }
      ]
    },
    {
      "cell_type": "markdown",
      "source": [
        "20. O que é impresso pelo trecho de código a seguir?"
      ],
      "metadata": {
        "id": "gtTKY2NjAD7e"
      }
    },
    {
      "cell_type": "code",
      "source": [
        "lista_original = [5, 6, 7, 8]\n",
        "print(lista_original*3)"
      ],
      "metadata": {
        "colab": {
          "base_uri": "https://localhost:8080/"
        },
        "id": "FEmiACLp_g5e",
        "outputId": "a2af5e27-724d-4d3a-b8f9-068599e72445"
      },
      "execution_count": null,
      "outputs": [
        {
          "output_type": "stream",
          "name": "stdout",
          "text": [
            "[5, 6, 7, 8, 5, 6, 7, 8, 5, 6, 7, 8]\n"
          ]
        }
      ]
    },
    {
      "cell_type": "markdown",
      "source": [
        "21. O que é impresso pelo trecho de código a seguir?"
      ],
      "metadata": {
        "id": "dCLI-SvAANxQ"
      }
    },
    {
      "cell_type": "code",
      "source": [
        "lista_original = [5, 6, 7, 8]\n",
        "print(lista_original*3)\n",
        "lista_nova = [lista_original] * 3\n",
        "print(lista_nova)"
      ],
      "metadata": {
        "colab": {
          "base_uri": "https://localhost:8080/"
        },
        "id": "VQU5g5pkAIYj",
        "outputId": "d52c8bf7-a374-42a1-c93f-272cd1d3e134"
      },
      "execution_count": null,
      "outputs": [
        {
          "output_type": "stream",
          "name": "stdout",
          "text": [
            "[5, 6, 7, 8, 5, 6, 7, 8, 5, 6, 7, 8]\n",
            "[[5, 6, 7, 8], [5, 6, 7, 8], [5, 6, 7, 8]]\n"
          ]
        }
      ]
    },
    {
      "cell_type": "markdown",
      "source": [
        "22. O que é impresso pelo trecho de código a seguir?"
      ],
      "metadata": {
        "id": "J3PKdwM5AaPV"
      }
    },
    {
      "cell_type": "code",
      "source": [
        "lista_original = [5, 6, 7, 8]\n",
        "lista_nova = [lista_original] * 3\n",
        "print(lista_nova)\n",
        "lista_original[1] = 22\n",
        "print(lista_nova)"
      ],
      "metadata": {
        "colab": {
          "base_uri": "https://localhost:8080/"
        },
        "id": "6_nphTTmASXS",
        "outputId": "03dd20ef-86be-4c53-8e98-e1a27300adef"
      },
      "execution_count": null,
      "outputs": [
        {
          "output_type": "stream",
          "name": "stdout",
          "text": [
            "[[5, 6, 7, 8], [5, 6, 7, 8], [5, 6, 7, 8]]\n",
            "[[5, 22, 7, 8], [5, 22, 7, 8], [5, 22, 7, 8]]\n"
          ]
        }
      ]
    },
    {
      "cell_type": "markdown",
      "source": [
        "23. O que é impresso pelo trecho de código a seguir?"
      ],
      "metadata": {
        "id": "zcd0CUY-ArR1"
      }
    },
    {
      "cell_type": "code",
      "source": [
        "lista_a = [4, 1, 8, 6, 3]\n",
        "lista_b = lista_a * 2\n",
        "lista_b[3] = 35\n",
        "print(lista_a)"
      ],
      "metadata": {
        "colab": {
          "base_uri": "https://localhost:8080/"
        },
        "id": "qU0VkVdPAsEb",
        "outputId": "86574a3c-233f-4673-d420-49ba95dbb8b5"
      },
      "execution_count": null,
      "outputs": [
        {
          "output_type": "stream",
          "name": "stdout",
          "text": [
            "[4, 1, 8, 6, 3]\n"
          ]
        }
      ]
    },
    {
      "cell_type": "markdown",
      "source": [
        "24. O que é impresso pelo trecho de código a seguir?"
      ],
      "metadata": {
        "id": "PYmFLO8pBG4F"
      }
    },
    {
      "cell_type": "code",
      "source": [
        "lista_a = [4, 1, 8, 6, 3]\n",
        "lista_b = [lista_a] * 2\n",
        "lista_a[3] = 35\n",
        "print(lista_b)"
      ],
      "metadata": {
        "colab": {
          "base_uri": "https://localhost:8080/"
        },
        "id": "ORFu4FAkA6Tw",
        "outputId": "a2cc4e95-f2dc-4f0c-da89-3fa664ca4826"
      },
      "execution_count": null,
      "outputs": [
        {
          "output_type": "stream",
          "name": "stdout",
          "text": [
            "[[4, 1, 8, 35, 3], [4, 1, 8, 35, 3]]\n"
          ]
        }
      ]
    },
    {
      "cell_type": "markdown",
      "source": [
        "25. O que é impresso pelo trecho de código a seguir?"
      ],
      "metadata": {
        "id": "1MNDcim1BW0I"
      }
    },
    {
      "cell_type": "code",
      "source": [
        "uma_lista = [4, 1, 8, 6, 3]\n",
        "uma_lista.append(True)\n",
        "uma_lista.append(False)\n",
        "print(uma_lista)"
      ],
      "metadata": {
        "colab": {
          "base_uri": "https://localhost:8080/"
        },
        "id": "hZ6czcvEBPj3",
        "outputId": "82fcec89-d95a-46ac-c07e-c2ea680959a4"
      },
      "execution_count": null,
      "outputs": [
        {
          "output_type": "stream",
          "name": "stdout",
          "text": [
            "[4, 1, 8, 6, 3, True, False]\n"
          ]
        }
      ]
    },
    {
      "cell_type": "markdown",
      "source": [
        "26. O que é impresso pelo trecho de código a seguir?"
      ],
      "metadata": {
        "id": "uata0ke4BfiI"
      }
    },
    {
      "cell_type": "code",
      "source": [
        "uma_lista = [4, 1, 8, 6, 3]\n",
        "uma_lista.insert(2,True)\n",
        "uma_lista.insert(0,False)\n",
        "print(uma_lista)"
      ],
      "metadata": {
        "colab": {
          "base_uri": "https://localhost:8080/"
        },
        "id": "7wzAI5JBBadw",
        "outputId": "806136d7-13ac-4a4e-b4f6-330a13d0d404"
      },
      "execution_count": null,
      "outputs": [
        {
          "output_type": "stream",
          "name": "stdout",
          "text": [
            "[False, 4, 1, True, 8, 6, 3]\n"
          ]
        }
      ]
    },
    {
      "cell_type": "code",
      "source": [],
      "metadata": {
        "id": "_OEZwI18Bj_e"
      },
      "execution_count": null,
      "outputs": []
    },
    {
      "cell_type": "markdown",
      "source": [
        "27. O que é impresso pelo trecho de código a seguir?"
      ],
      "metadata": {
        "id": "F41N7lCmBw2u"
      }
    },
    {
      "cell_type": "code",
      "source": [
        "uma_lista = [4, 1, 8, 6, 3]\n",
        "temp = uma_lista.pop(2)\n",
        "temp = uma_lista.pop()\n",
        "print(uma_lista)"
      ],
      "metadata": {
        "colab": {
          "base_uri": "https://localhost:8080/"
        },
        "id": "QpbvNUBlBxdZ",
        "outputId": "7d0ebcae-ddb0-4f67-8bcf-79ee8d309816"
      },
      "execution_count": null,
      "outputs": [
        {
          "output_type": "stream",
          "name": "stdout",
          "text": [
            "[4, 1, 6]\n"
          ]
        }
      ]
    },
    {
      "cell_type": "markdown",
      "source": [
        "28. O que é impresso pelo trecho de código a seguir?"
      ],
      "metadata": {
        "id": "ZE-sQKhBCBhP"
      }
    },
    {
      "cell_type": "code",
      "source": [
        "uma_lista = [4, 1, 8, 6, 3]\n",
        "uma_lista = uma_lista.pop(0)\n",
        "print(uma_lista)"
      ],
      "metadata": {
        "colab": {
          "base_uri": "https://localhost:8080/"
        },
        "id": "dAMc3d0_B00k",
        "outputId": "97f541e5-8d76-4d55-c148-39b3e857706f"
      },
      "execution_count": null,
      "outputs": [
        {
          "output_type": "stream",
          "name": "stdout",
          "text": [
            "4\n"
          ]
        }
      ]
    },
    {
      "cell_type": "code",
      "source": [],
      "metadata": {
        "id": "YnNYKFMfCM-o"
      },
      "execution_count": null,
      "outputs": []
    }
  ]
}