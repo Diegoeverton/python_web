{
  "nbformat": 4,
  "nbformat_minor": 0,
  "metadata": {
    "colab": {
      "provenance": [],
      "collapsed_sections": [],
      "authorship_tag": "ABX9TyMBcghUeqGNwfStcJBWst4l",
      "include_colab_link": true
    },
    "kernelspec": {
      "name": "python3",
      "display_name": "Python 3"
    },
    "language_info": {
      "name": "python"
    }
  },
  "cells": [
    {
      "cell_type": "markdown",
      "metadata": {
        "id": "view-in-github",
        "colab_type": "text"
      },
      "source": [
        "<a href=\"https://colab.research.google.com/github/Diegoeverton/python_web/blob/main/EXERCICIOS_AULA_04.ipynb\" target=\"_parent\"><img src=\"https://colab.research.google.com/assets/colab-badge.svg\" alt=\"Open In Colab\"/></a>"
      ]
    },
    {
      "cell_type": "code",
      "execution_count": null,
      "metadata": {
        "colab": {
          "base_uri": "https://localhost:8080/"
        },
        "id": "Zpz05ZOnTt50",
        "outputId": "e28c560f-6c13-44d0-f393-32b6776e1c6f"
      },
      "outputs": [
        {
          "output_type": "stream",
          "name": "stdout",
          "text": [
            "Digite o um numero: 10\n",
            "Digite o um numero: 51\n",
            "Digite o um numero: 2\n",
            "Digite o um numero: 3\n",
            "Digite o um numero: 4\n",
            "Digite o um numero: 8\n",
            "Digite o um numero: 9\n",
            "Digite o um numero: 46\n",
            "Digite o um numero: 51\n",
            "Digite o um numero: 478\n",
            "A quantidade total de pares e :  6\n",
            "A quantidade de numeors impares e:  4\n"
          ]
        }
      ],
      "source": [
        "\"\"\" 01 - Faça um programa que peça 10 números inteiros, calcule e mostre \n",
        "os numeros pares e a quantide de numeros ímpares\"\"\"\n",
        "z = 0 #contador\n",
        "n = 0\n",
        "c = 0 #contador \n",
        "for numero in range (10):\n",
        "   n = int(input('Digite o um numero: '))\n",
        "   if n % 2 == 0:c = c + 1\n",
        "      #print('este numero {} e par'.format(n))\n",
        "   else: z = z + 1 #else:\n",
        "      #print('este numero nao e par ')\n",
        "#print('Os numeros digitados foram:', n)\n",
        "\n",
        "print('A quantidade total de pares e : ', c)\n",
        "print('A quantidade de numeors impares e: ', z)"
      ]
    },
    {
      "cell_type": "code",
      "source": [
        "\"\"\"\" 2 - Crie uma estrutura que poergunte ao usuário qual o dia da semana.\n",
        "se o dia for igual a domingo ou igual a sábado, imprima na tela \"Hoje é dia de descanso\",\n",
        "caso contrário imprima na tela \"Voce precisa trabalhar\" \"\"\"\n",
        "\n",
        "dia = input(\"Qual o dia da semana: \").upper()\n",
        "\n",
        "if dia == 'DOMINGO' or dia == 'SABADO':\n",
        "    print('Hoje e o dia de descanso')\n",
        "else:\n",
        "    print('voce precisa trabalhar')"
      ],
      "metadata": {
        "colab": {
          "base_uri": "https://localhost:8080/"
        },
        "id": "fSIS-MpFUjO9",
        "outputId": "63103c50-4a1d-43ea-96a7-3edbcf5d9e61"
      },
      "execution_count": null,
      "outputs": [
        {
          "output_type": "stream",
          "name": "stdout",
          "text": [
            "Qual o dia da semana: segunda\n",
            "voce precisa trabalhar\n"
          ]
        }
      ]
    },
    {
      "cell_type": "code",
      "source": [
        "\"\"\" 3 - Faça m programa que cria uma lista automaticamente usando a função range ()\n",
        "e imprima na tela apenas os numeros pares.\n",
        "Sempre que encontrar um numero ímpar multiplicar por ele mesmo e mostrar na tela\"\"\"\n",
        "x = int(input(\"Digite seu o repeat:\"))\n",
        "impar = 0\n",
        "for cont in range (x):\n",
        "  if cont % 2 == 0:\n",
        "    print (\"Numeros pares: \", cont)\n",
        "  else:\n",
        "    impar = cont * cont\n",
        "    print (\"NUmero impar: \", impar)\n",
        "  "
      ],
      "metadata": {
        "colab": {
          "base_uri": "https://localhost:8080/"
        },
        "id": "q31HPWxxVhDl",
        "outputId": "6f7ba05b-105e-4fe7-f1c6-98cb8de9b06c"
      },
      "execution_count": null,
      "outputs": [
        {
          "output_type": "stream",
          "name": "stdout",
          "text": [
            "Digite seu o repeat:5\n",
            "Numeros pares:  0\n",
            "NUmero impar:  1\n",
            "Numeros pares:  2\n",
            "NUmero impar:  9\n",
            "Numeros pares:  4\n"
          ]
        }
      ]
    },
    {
      "cell_type": "code",
      "source": [
        "\"\"\" 4 - Faça um programa para percorrer uma palavra e imprimir na tela apenas as letras que são vogais\n",
        "e mostrar em qual índice da palavra cada vogal eestá associada\"\"\"\n",
        "\n",
        "palavra = input(\"Digite a palavra para percorrer: \")\n",
        "for indice, letra in enumerate (palavra):\n",
        "  if letra in 'aeiou':\n",
        "    print(indice, letra, end = \" \")\n",
        " \n",
        "  "
      ],
      "metadata": {
        "colab": {
          "base_uri": "https://localhost:8080/"
        },
        "id": "RNeKpL--ZCZc",
        "outputId": "78a4924b-3548-47ec-e65e-58fa18f03e1a"
      },
      "execution_count": null,
      "outputs": [
        {
          "output_type": "stream",
          "name": "stdout",
          "text": [
            "Digite a palavra para percorrer: bola\n",
            "1 o 3 a "
          ]
        }
      ]
    },
    {
      "cell_type": "code",
      "source": [
        "\"\"\" 2 - Crie uma lista de 5 frutas e verfifique se a fruta 'Morango'\n",
        "faz parte da lista \"\"\"\n",
        "\"\"\"lista = ['Laranja', 'Maça', 'Abacaxi', 'Uva', 'Morango']\n",
        "for fruta in lista:\n",
        "    if fruta == 'Morango':\n",
        "        print(\"Morango faz parte da lista de frutas\")\"\"\"\n",
        "\n",
        "lista = []\n",
        "for frut in range (3):\n",
        "  x = input(\"Digite: \")\n",
        "  lista.append(x)\n",
        "  if x == \"morango\":\n",
        "  \n",
        "  \n",
        "   #print(lista)      "
      ],
      "metadata": {
        "id": "H-z1ww9hz9K1",
        "colab": {
          "base_uri": "https://localhost:8080/"
        },
        "outputId": "95a1af5f-1bf2-40ad-ad20-e0680fb4b50a"
      },
      "execution_count": null,
      "outputs": [
        {
          "name": "stdout",
          "output_type": "stream",
          "text": [
            "Digite: maca\n",
            "Digite: morango\n",
            "['maca', 'morango']\n",
            "Digite: pera\n"
          ]
        }
      ]
    },
    {
      "cell_type": "code",
      "source": [
        "\"\"\"3 - Crie uma lista de numeros pares entre 100 e 150 e imprima na tela\"\"\"\n",
        "\n",
        "x= 100\n",
        "\n",
        "while x <= 150:\n",
        "  if x % 2 == 0:\n",
        "    print (x)\n",
        "  x =x + 1\n",
        " \n",
        "  \n",
        "      "
      ],
      "metadata": {
        "id": "WlSlVuIg0aCR"
      },
      "execution_count": null,
      "outputs": []
    },
    {
      "cell_type": "code",
      "source": [
        "\"\"\"4 - Crie uma variavel chamada temperatura e atribua valor 40.\n",
        "Supondo que a temperatura está diminuindo de grau em grau, enquanto\n",
        "for maior que 25, imprima as temperaturas na tela\"\"\"\n",
        "\n",
        "temp = 40\n",
        "while temp <= 40:\n",
        "  if temp > 25:\n",
        "    print (temp)\n",
        "  temp = temp - 1\n"
      ],
      "metadata": {
        "id": "pu520QEB5eJh"
      },
      "execution_count": null,
      "outputs": []
    },
    {
      "cell_type": "code",
      "source": [
        "\"\"\"5 - Crie uma variavel chamada contador = 0. Enquanto count form menot que 100,\n",
        "imprima os valores na tela\"\"\"\n",
        "contador = 0\n",
        "while contador <= 100:\n",
        "  print (contador)\n",
        "  contador = contador + 1\n"
      ],
      "metadata": {
        "id": "n3YjeGEn6pZV"
      },
      "execution_count": null,
      "outputs": []
    },
    {
      "cell_type": "code",
      "source": [
        "\"\"\"6 - Cire uma lista vazia e uma variável com valor 4.\n",
        "Enquanto o valor da variavel for menor ou igual a 20,\n",
        "adicione à lista apenas os valores pares e imprima na lista\"\"\"\n",
        "\n",
        "lista = []\n",
        "n = 4\n",
        "a = 0\n",
        "while n <= 20:\n",
        "  if n % 2 == 0:\n",
        "    lista.append(n)\n",
        "    print(lista)\n",
        "  n = n + 1\n"
      ],
      "metadata": {
        "id": "mhflhvM-61g_",
        "colab": {
          "base_uri": "https://localhost:8080/"
        },
        "outputId": "703c343e-fb3f-4eee-d6ec-cec047b699f5"
      },
      "execution_count": null,
      "outputs": [
        {
          "output_type": "stream",
          "name": "stdout",
          "text": [
            "[4]\n",
            "[4, 6]\n",
            "[4, 6, 8]\n",
            "[4, 6, 8, 10]\n",
            "[4, 6, 8, 10, 12]\n",
            "[4, 6, 8, 10, 12, 14]\n",
            "[4, 6, 8, 10, 12, 14, 16]\n",
            "[4, 6, 8, 10, 12, 14, 16, 18]\n",
            "[4, 6, 8, 10, 12, 14, 16, 18, 20]\n"
          ]
        }
      ]
    },
    {
      "cell_type": "code",
      "source": [
        "\"\"\"7 - Faça a correção dos erros no codigo abaixo e execute o programa\n",
        "          temperatura = float(inout(Qual a temperatura?))\n",
        "          if temperatura > 30\n",
        "          print ('Vista roupas leves')\n",
        "          else\n",
        "          print('Busque seus casacos.')\"\"\"\n",
        "\n",
        "temperatura = float(input('Qual a temperatura?'))\n",
        "if temperatura > 30:\n",
        "    print ('Vista roupas leves')\n",
        "else:\n",
        "    print('Busque seus casacos.')"
      ],
      "metadata": {
        "colab": {
          "base_uri": "https://localhost:8080/"
        },
        "id": "fpr3lB3WhXhY",
        "outputId": "627a3b27-a543-4943-f5c5-52153fa07e36"
      },
      "execution_count": null,
      "outputs": [
        {
          "output_type": "stream",
          "name": "stdout",
          "text": [
            "Qual a temperatura?31\n",
            "Vista roupas leves\n"
          ]
        }
      ]
    },
    {
      "cell_type": "code",
      "source": [
        "\"\"\"8 - Faça um programa que conte quantas vezes a letra \"s\"aparece na frase abaixo\n",
        "\"Educação não transforma o mundo. Educção muda pessoas. Pessoas transformam o mundo\"\n",
        "(Paulo Freire)\"\"\"\n",
        "\n",
        "frase = (\"Educação não transforma o mundo. Educção muda pessoas. Pessoas transformam o mundo\")\n",
        "print(frase.count(\"s\"))\n"
      ],
      "metadata": {
        "colab": {
          "base_uri": "https://localhost:8080/"
        },
        "id": "isKnx2kViY3f",
        "outputId": "641750f2-7ea6-4fa6-f8b5-336288992c0a"
      },
      "execution_count": null,
      "outputs": [
        {
          "output_type": "stream",
          "name": "stdout",
          "text": [
            "8\n"
          ]
        }
      ]
    },
    {
      "cell_type": "code",
      "source": [
        "# USANDO UM LAÇO FOR \n",
        "\n",
        "frase = input(\"Digite a frase ou palavra: \"). lower() # dessa forma o usuario tem a liberdade de fazer acontagem de s em qualquer frase ou palavra\n",
        "soma = 0\n",
        "for s in frase:\n",
        "  if \"s\" in frase:\n",
        "     soma = (frase.count(\"s\")) f# neste exemplo  a variavel soma esta guardando o resultado da contagem\n",
        "print (soma)\n",
        "    "
      ],
      "metadata": {
        "id": "jC07tSG4lh7_",
        "colab": {
          "base_uri": "https://localhost:8080/"
        },
        "outputId": "a71b68fb-5654-4adf-a245-e308bfc02519"
      },
      "execution_count": null,
      "outputs": [
        {
          "output_type": "stream",
          "name": "stdout",
          "text": [
            "Digite a frase ou palavra: samba\n",
            "1\n"
          ]
        }
      ]
    },
    {
      "cell_type": "code",
      "source": [
        "\"\"\" 10 - Considere a lista abaixo e retorne apenas os elementos curo o indice for maior que 5\"\"\"\n",
        "\n",
        "lista = [\"a\", \"b\", \"c\", \"d\", \"e\", \"f\", \"g\", \"h\"]\n",
        "print (list(enumerate(lista,5)))"
      ],
      "metadata": {
        "colab": {
          "base_uri": "https://localhost:8080/"
        },
        "id": "ddp0Ziaf1i6A",
        "outputId": "f942e1ed-b1de-4f54-ea5b-c66074912ede"
      },
      "execution_count": null,
      "outputs": [
        {
          "output_type": "stream",
          "name": "stdout",
          "text": [
            "[(5, 'a'), (6, 'b'), (7, 'c'), (8, 'd'), (9, 'e'), (10, 'f'), (11, 'g'), (12, 'h')]\n"
          ]
        }
      ]
    },
    {
      "cell_type": "code",
      "source": [
        "#usando um laço for \n",
        "for indice, letra in enumerate(lista):\n",
        "  if indice > 5:\n",
        "    print(indice, letra)"
      ],
      "metadata": {
        "colab": {
          "base_uri": "https://localhost:8080/"
        },
        "id": "2ZFy6Jzu3IN-",
        "outputId": "5bb4c38b-a7ac-4b24-d2a8-6775bcfd4aba"
      },
      "execution_count": null,
      "outputs": [
        {
          "output_type": "stream",
          "name": "stdout",
          "text": [
            "6 g\n",
            "7 h\n"
          ]
        }
      ]
    },
    {
      "cell_type": "code",
      "source": [
        "\"\"\" 11 - Crie um terceiro dicionario com as chaves do dicionario 1 e os \n",
        "valores do dicioanrio 2 abaixo\"\"\"\n",
        "dict1 = {'a':1, 'b':2} \n",
        "dict2 = {'c':4, 'd':5}\n",
        "\n",
        "dict1.update(dict2)\n",
        "print(dict1)\n"
      ],
      "metadata": {
        "colab": {
          "base_uri": "https://localhost:8080/"
        },
        "id": "6Xwd8WjJ3Yw3",
        "outputId": "b6182636-8411-4f53-8c40-b28cd209a6b7"
      },
      "execution_count": null,
      "outputs": [
        {
          "output_type": "stream",
          "name": "stdout",
          "text": [
            "{'a': 1, 'b': 2, 'c': 4, 'd': 5}\n"
          ]
        }
      ]
    },
    {
      "cell_type": "code",
      "source": [
        "for um_valor in range (10):\n",
        "  print (um_valor)\n",
        "                      "
      ],
      "metadata": {
        "colab": {
          "base_uri": "https://localhost:8080/"
        },
        "id": "RHAyjp_2_kM7",
        "outputId": "44a0233f-23d7-44ce-a36a-32ceeab1b390"
      },
      "execution_count": null,
      "outputs": [
        {
          "output_type": "stream",
          "name": "stdout",
          "text": [
            "0\n",
            "1\n",
            "2\n",
            "3\n",
            "4\n",
            "5\n",
            "6\n",
            "7\n",
            "8\n",
            "9\n"
          ]
        }
      ]
    },
    {
      "cell_type": "code",
      "source": [
        "for um_char in \"Venha para a festa\":\n",
        "  print(um_char)\n"
      ],
      "metadata": {
        "colab": {
          "base_uri": "https://localhost:8080/"
        },
        "id": "iqA-JjDLFmMh",
        "outputId": "0df53be6-7fd4-4c68-f621-b496af993ea9"
      },
      "execution_count": null,
      "outputs": [
        {
          "output_type": "stream",
          "name": "stdout",
          "text": [
            "V\n",
            "e\n",
            "n\n",
            "h\n",
            "a\n",
            " \n",
            "p\n",
            "a\n",
            "r\n",
            "a\n",
            " \n",
            "a\n",
            " \n",
            "f\n",
            "e\n",
            "s\n",
            "t\n",
            "a\n"
          ]
        }
      ]
    },
    {
      "cell_type": "code",
      "source": [],
      "metadata": {
        "id": "pFxElnE_Fwch"
      },
      "execution_count": null,
      "outputs": []
    }
  ]
}