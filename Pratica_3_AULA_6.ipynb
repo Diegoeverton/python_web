{
  "nbformat": 4,
  "nbformat_minor": 0,
  "metadata": {
    "colab": {
      "provenance": [],
      "collapsed_sections": [],
      "authorship_tag": "ABX9TyOkJ9j63Wvcb9Tc9Xp7fuMm",
      "include_colab_link": true
    },
    "kernelspec": {
      "name": "python3",
      "display_name": "Python 3"
    },
    "language_info": {
      "name": "python"
    }
  },
  "cells": [
    {
      "cell_type": "markdown",
      "metadata": {
        "id": "view-in-github",
        "colab_type": "text"
      },
      "source": [
        "<a href=\"https://colab.research.google.com/github/Diegoeverton/python_web/blob/main/Pratica_3_AULA_6.ipynb\" target=\"_parent\"><img src=\"https://colab.research.google.com/assets/colab-badge.svg\" alt=\"Open In Colab\"/></a>"
      ]
    },
    {
      "cell_type": "markdown",
      "source": [
        "ALUNO: DIEGO EVERTON DA SILVA EVANGELISTA"
      ],
      "metadata": {
        "id": "JB5qmkyHq805"
      }
    },
    {
      "cell_type": "markdown",
      "source": [
        "FUNÇÕES E METODOS"
      ],
      "metadata": {
        "id": "bIfSZIPRrHg6"
      }
    },
    {
      "cell_type": "code",
      "source": [
        "def funcaoLeitura ():\n",
        "  for i in range (5):\n",
        "    print ('Número ', 1) \n",
        "\n",
        "funcaoLeitura () "
      ],
      "metadata": {
        "colab": {
          "base_uri": "https://localhost:8080/"
        },
        "id": "eeSqhxyJrETu",
        "outputId": "9b00c8ed-f04a-4954-ae8e-a90acdac741c"
      },
      "execution_count": 1,
      "outputs": [
        {
          "output_type": "stream",
          "name": "stdout",
          "text": [
            "Número  1\n",
            "Número  1\n",
            "Número  1\n",
            "Número  1\n",
            "Número  1\n"
          ]
        }
      ]
    },
    {
      "cell_type": "code",
      "source": [
        "#FUNCAO PARA SOMAR DOIS NUMEROS\n",
        "def addNum (n1, n2):\n",
        "  print('O primeiro numero é: ', n1)\n",
        "  print('O segundo numero é: ', n2)\n",
        "  print('A soma Numero é: ', n1 + n2)\n",
        "\n",
        "addNum (45, 6)"
      ],
      "metadata": {
        "colab": {
          "base_uri": "https://localhost:8080/"
        },
        "id": "mz0-bMLQrgSv",
        "outputId": "1e1ce31d-1299-4ae0-94b7-436df8d8351e"
      },
      "execution_count": 4,
      "outputs": [
        {
          "output_type": "stream",
          "name": "stdout",
          "text": [
            "O primeiro numero é:  45\n",
            "O segundo numero é:  6\n",
            "A soma Numero é:  51\n"
          ]
        }
      ]
    },
    {
      "cell_type": "code",
      "source": [
        "#VARIAVEIS GLOBAIS E LOVCAIS\n",
        "\n",
        "varGlobal = 10 #essa  é uma variavel global\n",
        "def multiplicacao (num1, num2):\n",
        "  varGlobal = (num1 * num2) # essa é uma variavel local\n",
        "  print(' Variavel da Funcao Multiplica: ', varGlobal)\n",
        "\n",
        "multiplicacao (5, 4)\n",
        "print(varGlobal)"
      ],
      "metadata": {
        "colab": {
          "base_uri": "https://localhost:8080/"
        },
        "id": "g2Svxz7JstsU",
        "outputId": "475f5bbb-7df8-4078-db65-608fe95fe3ef"
      },
      "execution_count": 7,
      "outputs": [
        {
          "output_type": "stream",
          "name": "stdout",
          "text": [
            " Variavel da Funcao Multiplica:  20\n",
            "10\n"
          ]
        }
      ]
    },
    {
      "cell_type": "code",
      "source": [
        "varGlobal = 10 #essa é uma variavel global\n",
        "def multiplica (num1, num2):\n",
        "  varLocal = num1 * num2 #essa é uma variavel local\n",
        "  print('Variavel da função multiplica: ', varLocal)\n",
        "\n",
        "multiplica (5, 4)"
      ],
      "metadata": {
        "colab": {
          "base_uri": "https://localhost:8080/"
        },
        "id": "TwP8Y20ItpN6",
        "outputId": "84c6518b-00fe-4d48-d1c8-e63af8c4e882"
      },
      "execution_count": 8,
      "outputs": [
        {
          "output_type": "stream",
          "name": "stdout",
          "text": [
            "Variavel da função multiplica:  20\n"
          ]
        }
      ]
    },
    {
      "cell_type": "code",
      "source": [
        "print(varLocal)"
      ],
      "metadata": {
        "colab": {
          "base_uri": "https://localhost:8080/",
          "height": 166
        },
        "id": "EXKFGo-ButMJ",
        "outputId": "171d4cbe-44eb-41a8-f92b-e4a01c11941c"
      },
      "execution_count": 10,
      "outputs": [
        {
          "output_type": "error",
          "ename": "NameError",
          "evalue": "ignored",
          "traceback": [
            "\u001b[0;31m---------------------------------------------------------------------------\u001b[0m",
            "\u001b[0;31mNameError\u001b[0m                                 Traceback (most recent call last)",
            "\u001b[0;32m<ipython-input-10-6ff1d360d399>\u001b[0m in \u001b[0;36m<module>\u001b[0;34m\u001b[0m\n\u001b[0;32m----> 1\u001b[0;31m \u001b[0mprint\u001b[0m\u001b[0;34m(\u001b[0m\u001b[0mvarLocal\u001b[0m\u001b[0;34m)\u001b[0m\u001b[0;34m\u001b[0m\u001b[0;34m\u001b[0m\u001b[0m\n\u001b[0m",
            "\u001b[0;31mNameError\u001b[0m: name 'varLocal' is not defined"
          ]
        }
      ]
    },
    {
      "cell_type": "code",
      "source": [
        "for i in range (5): print(i)\n"
      ],
      "metadata": {
        "colab": {
          "base_uri": "https://localhost:8080/"
        },
        "id": "QnqwnGVsu0qv",
        "outputId": "f30c24d9-aa8f-45f7-c746-0f2c9d6ade9d"
      },
      "execution_count": 12,
      "outputs": [
        {
          "output_type": "stream",
          "name": "stdout",
          "text": [
            "0\n",
            "1\n",
            "2\n",
            "3\n",
            "4\n",
            "0\n",
            "1\n",
            "2\n",
            "3\n",
            "4\n"
          ]
        }
      ]
    },
    {
      "cell_type": "code",
      "source": [
        "#CRIANDO UMA FUNCAO COM OUTRAS FUNÇÕES\n",
        "\n",
        "def separarTexto (texto): return texto.split ()\n",
        "\n",
        "token = separarTexto ('Cibele Maria')\n",
        "\n",
        "print(separarTexto)"
      ],
      "metadata": {
        "colab": {
          "base_uri": "https://localhost:8080/"
        },
        "id": "m1WssJNIvKhP",
        "outputId": "7424e44a-0db8-41f3-85d4-853ef40c6586"
      },
      "execution_count": 13,
      "outputs": [
        {
          "output_type": "stream",
          "name": "stdout",
          "text": [
            "<function separarTexto at 0x7f6cd3fc0050>\n"
          ]
        }
      ]
    },
    {
      "cell_type": "code",
      "source": [
        "\"\"\"Quando não sabemos a quantidade de parâmetrosbasta usar o * no parâmetro\n",
        "def variosParametros(*parametros):\n",
        "    for n, item in enumerate (parametros):\n",
        "      print (\"O parâmetro %d é: \"%(n), item)\n",
        "      return;\"\"\"\n",
        "\n",
        "#variosParametros ('pitomba', 'jambo', 'siriguela', 'umbu')\n",
        "\n",
        "import math # pacote com o conjuto de funcoes matematica\n",
        "\n",
        "def numPrimo(num):\n",
        "  #VERIFICANDO SE UM NUMERO É PRIMO\n",
        "  if (num % 2) == 0 and num>2:\n",
        "    return ('Este numero não é primo')\n",
        "  for i in range (3, int(math.sqrt(num)) +1, 2 ):\n",
        "    if (num % 1) == 0:\n",
        "      return ('Este numero não é primo.')\n",
        "    return ('Este numero é primo')\n",
        "  \n",
        "  numPrimo(47)"
      ],
      "metadata": {
        "id": "PXnhqQo8vphz"
      },
      "execution_count": 16,
      "outputs": []
    },
    {
      "cell_type": "code",
      "source": [
        "#CALCULADORA\n",
        "\n",
        "def soma (n1, n2):\n",
        "  return n1 + n2\n",
        "def subtrai (n1, n2):\n",
        "  return n1 - n2\n",
        "def multiplica (n1, n2):\n",
        "  return n1 * n2\n",
        "def divide (n1, n2):\n",
        "  return n1 / n2\n",
        "\n",
        "while True:\n",
        "  print('========================================')\n",
        "  print('========== MENU OPÇÕES =================')\n",
        "  print('|          1 - somar                   |')\n",
        "  print('|          2 - subtrair                |')\n",
        "  print('|          3 - multiplicar             |')\n",
        "  print('|          4 - dividr                  |')\n",
        "  print('|          2 - sair                    |')\n",
        "  print('========================================')\n",
        "\n",
        "  op = int(input())\n",
        "  if op == 0:\n",
        "    break\n",
        "  n1 = int (input('PRIMEIRO NUMERO'))\n",
        "  n2 = int (input('SEGUNDO NUMERO'))\n",
        "\n",
        "  \n",
        "  if op == 1:\n",
        "    print('O resultado da soma é: ', soma(n1, n2))\n",
        "  if op == 2:\n",
        "    print('O resultado da subtracao é: ', subtrai(n1, n2))\n",
        "  if op == 3:\n",
        "    print('O resultado da multiplicacao é: ', multiplica(n1, n2))\n",
        "  if op == 4:\n",
        "    print('O resultado da divisao é: ', divide(n1, n2))"
      ],
      "metadata": {
        "colab": {
          "base_uri": "https://localhost:8080/"
        },
        "id": "hlgi0ZehxcHk",
        "outputId": "a7871800-6ed3-490e-9b33-6c5c1937cad0"
      },
      "execution_count": 17,
      "outputs": [
        {
          "name": "stdout",
          "output_type": "stream",
          "text": [
            "========================================\n",
            "========== MENU OPÇÕES =================\n",
            "|          1 - somar                   |\n",
            "|          2 - subtrair                |\n",
            "|          3 - multiplicar             |\n",
            "|          4 - dividr                  |\n",
            "|          2 - sair                    |\n",
            "========================================\n",
            "40\n",
            "========================================\n",
            "========== MENU OPÇÕES =================\n",
            "|          1 - somar                   |\n",
            "|          2 - subtrair                |\n",
            "|          3 - multiplicar             |\n",
            "|          4 - dividr                  |\n",
            "|          2 - sair                    |\n",
            "========================================\n",
            "0\n"
          ]
        }
      ]
    },
    {
      "cell_type": "code",
      "source": [
        "class Pessoa:\n",
        "  def __init__ (self, n, i):\n",
        "    self.nome = n\n",
        "    self.idade = i\n",
        "\n",
        "  def apresentacao(self):\n",
        "    print('Seja bem vindo ao Python!')\n",
        "\n",
        "class PessoaFisica ():\n",
        "  def __init__(self, n, i, cpf):\n",
        "    self.nome = n\n",
        "    self.idade = i\n",
        "    self.cpf = cpf\n",
        "  def apresentacao (self):\n",
        "    print('Seja bem vindo ao Python!')\n",
        "\n",
        "  def impostoDeRenda (self, *salario):\n",
        "    s = sum(salario)\n",
        "    ir = s*0.015\n",
        "    print('O valor do seu importo de renda é R$ ', ir)\n",
        "\n",
        "class PessoaJuridica():\n",
        "  def __init__(self, n, i, cnpj):\n",
        "    self.nome = n\n",
        "    self.idade = i\n",
        "    self.cnpj = cnpj\n",
        "\n",
        "  def apresentacao (self):\n",
        "    print('Seja bem vindo ao Python!')\n",
        "\n",
        "  def impostoDeRenda (self, salario):\n",
        "    ir = salario*0.10\n",
        "    print('O valor do seu imposto de renda é de R$', ir)\n",
        "    return ir\n",
        "nome = str(input('NOme: '))\n",
        "age = int(input('Idade: '))\n",
        "cnpj = int(input('CNPJ: '))\n",
        "serumaninho = Pessoa (nome, age)\n",
        "comunidade = PessoaJuridica (nome, age, cnpj)\n",
        "\n",
        "serumaninho.nome\n",
        "serumaninho.idade\n",
        "\n",
        "serumaninho.apresentacao()\n",
        "\n",
        "salario = float (input('Receita: '))\n",
        "comunidade.impostoDeRenda (salario)\n",
        "print('Fim!')\n",
        "  \n",
        "\n",
        "  \n"
      ],
      "metadata": {
        "colab": {
          "base_uri": "https://localhost:8080/"
        },
        "id": "CHUeVZDszy4J",
        "outputId": "2a61c44f-872b-45c8-e1e2-0f8513fa53b4"
      },
      "execution_count": 20,
      "outputs": [
        {
          "output_type": "stream",
          "name": "stdout",
          "text": [
            "NOme: diego\n",
            "Idade: 38\n",
            "CNPJ: 21123123000101\n",
            "Seja bem vindo ao Python!\n",
            "Receita: 10000\n",
            "O valor do seu imposto de renda é de R$ 1000.0\n",
            "Fim!\n"
          ]
        }
      ]
    },
    {
      "cell_type": "code",
      "source": [],
      "metadata": {
        "id": "TMgkSxNy3VF_"
      },
      "execution_count": null,
      "outputs": []
    }
  ]
}