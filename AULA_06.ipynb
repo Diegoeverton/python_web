{
  "nbformat": 4,
  "nbformat_minor": 0,
  "metadata": {
    "colab": {
      "provenance": [],
      "collapsed_sections": [],
      "authorship_tag": "ABX9TyOD1RZ6IoJBx08LW/HHLq9G",
      "include_colab_link": true
    },
    "kernelspec": {
      "name": "python3",
      "display_name": "Python 3"
    },
    "language_info": {
      "name": "python"
    }
  },
  "cells": [
    {
      "cell_type": "markdown",
      "metadata": {
        "id": "view-in-github",
        "colab_type": "text"
      },
      "source": [
        "<a href=\"https://colab.research.google.com/github/Diegoeverton/python_web/blob/main/AULA_06.ipynb\" target=\"_parent\"><img src=\"https://colab.research.google.com/assets/colab-badge.svg\" alt=\"Open In Colab\"/></a>"
      ]
    },
    {
      "cell_type": "code",
      "execution_count": null,
      "metadata": {
        "id": "YPJPxcKYTsJP",
        "colab": {
          "base_uri": "https://localhost:8080/",
          "height": 35
        },
        "outputId": "8c43c097-e53c-4aa4-dca7-42c74e5f67db"
      },
      "outputs": [
        {
          "output_type": "execute_result",
          "data": {
            "text/plain": [
              "'def nome_funcao(par1, par2):\\n  instrucao_1\\n  instrucao_2\\n  instrucao_3\\n  return resultado '"
            ],
            "application/vnd.google.colaboratory.intrinsic+json": {
              "type": "string"
            }
          },
          "metadata": {},
          "execution_count": 1
        }
      ],
      "source": [
        "\"\"\"def nome_funcao(par1, par2):\n",
        "  instrucao_1\n",
        "  instrucao_2\n",
        "  instrucao_3\n",
        "  return resultado \"\"\""
      ]
    },
    {
      "cell_type": "code",
      "source": [
        "  def foo():\n",
        "    print(\"Funcao foo foi executada\")\n",
        "    print(\"Como nao ha parametros, comportamento da funcao sera o mesmo\")"
      ],
      "metadata": {
        "id": "KMXzKSpEUSis"
      },
      "execution_count": null,
      "outputs": []
    },
    {
      "cell_type": "code",
      "source": [
        "def bar(par1):\n",
        "  print(\"Funcao bar foi executada\")\n",
        "  print(f\"Parametro par1 recebe {par1} com valor (argumento)\")"
      ],
      "metadata": {
        "id": "4GYC4TjtU_VS"
      },
      "execution_count": null,
      "outputs": []
    },
    {
      "cell_type": "code",
      "source": [
        "bar(\"Santos\")"
      ],
      "metadata": {
        "id": "d4hN9f56Utpx",
        "colab": {
          "base_uri": "https://localhost:8080/"
        },
        "outputId": "3ecca6b8-0ec0-4274-c085-b5de1d726ef4"
      },
      "execution_count": null,
      "outputs": [
        {
          "output_type": "stream",
          "name": "stdout",
          "text": [
            "Funcao bar foi executada\n",
            "Parametro par1 recebe Santos com valor (argumento)\n"
          ]
        }
      ]
    },
    {
      "cell_type": "code",
      "source": [
        "def baz (par1, par2):\n",
        "  print(\"Funcao baz foi executada\")\n",
        "  print(f\"Funcao par1 recebe argumento {par1}\")\n",
        "  print(f\"Funcao par2 recebe argumento {par2}\")"
      ],
      "metadata": {
        "id": "SNz9nO1hUtf6"
      },
      "execution_count": null,
      "outputs": []
    },
    {
      "cell_type": "code",
      "source": [
        "baz (\"Santos\", \"Dumont\")"
      ],
      "metadata": {
        "colab": {
          "base_uri": "https://localhost:8080/"
        },
        "id": "PTCbBdObj_Ty",
        "outputId": "5d15910a-12cf-42e6-ea55-ea3bc1984745"
      },
      "execution_count": null,
      "outputs": [
        {
          "output_type": "stream",
          "name": "stdout",
          "text": [
            "Funcao baz foi executada\n",
            "Funcao par1 recebe argumento Santos\n",
            "Funcao par2 recebe argumento Dumont\n"
          ]
        }
      ]
    },
    {
      "cell_type": "code",
      "source": [
        "def baz2(par1, par2 = \"barney\"):\n",
        "  print(\"Funcao baz foi executada\")\n",
        "  print(f\"Funcao par1 recebe argumento {par1}\")\n",
        "  print(f\"Funcao par2 recebe argumento {par2}\")"
      ],
      "metadata": {
        "id": "4Nqqqm4vWF6Z"
      },
      "execution_count": null,
      "outputs": []
    },
    {
      "cell_type": "code",
      "source": [
        "baz2(\"Santos\")"
      ],
      "metadata": {
        "id": "B7FPIT1TWOaQ",
        "colab": {
          "base_uri": "https://localhost:8080/"
        },
        "outputId": "d3d141fd-8038-49aa-f0bf-f1a2b997d32d"
      },
      "execution_count": null,
      "outputs": [
        {
          "output_type": "stream",
          "name": "stdout",
          "text": [
            "Funcao baz foi executada\n",
            "Funcao par1 recebe argumento Santos\n",
            "Funcao par2 recebe argumento barney\n"
          ]
        }
      ]
    },
    {
      "cell_type": "code",
      "source": [
        "baz2(\"Santos\", \"Dumont\")"
      ],
      "metadata": {
        "colab": {
          "base_uri": "https://localhost:8080/"
        },
        "id": "mqa0Cruamp41",
        "outputId": "41922445-3dd5-4581-d321-2ad358273498"
      },
      "execution_count": null,
      "outputs": [
        {
          "output_type": "stream",
          "name": "stdout",
          "text": [
            "Funcao baz foi executada\n",
            "Funcao par1 recebe argumento Santos\n",
            "Funcao par2 recebe argumento Dumont\n"
          ]
        }
      ]
    },
    {
      "cell_type": "code",
      "source": [
        "baz2(par2 = \"Dumont\", par1 = \"Santos\")\n"
      ],
      "metadata": {
        "id": "HfvBjYGjWUWI",
        "colab": {
          "base_uri": "https://localhost:8080/"
        },
        "outputId": "61ffd978-5bf3-461d-f198-267151b962ff"
      },
      "execution_count": null,
      "outputs": [
        {
          "output_type": "stream",
          "name": "stdout",
          "text": [
            "Funcao baz foi executada\n",
            "Funcao par1 recebe argumento Santos\n",
            "Funcao par2 recebe argumento Dumont\n"
          ]
        }
      ]
    },
    {
      "cell_type": "code",
      "source": [
        "def adicao (n1, n2):\n",
        "  res = n1 + n2\n",
        "  return res"
      ],
      "metadata": {
        "id": "H_nMbtWCW50B"
      },
      "execution_count": null,
      "outputs": []
    },
    {
      "cell_type": "code",
      "source": [
        "def subtracao (n1, n2):\n",
        "  res = n1 - n2\n",
        "  return res\n",
        "\n",
        "def multiplicacao (n1, n2):\n",
        "  return n1 * n2\n",
        "\n",
        "def divisao (n1, n2):\n",
        "  return n1 / n2"
      ],
      "metadata": {
        "id": "xI5Lz7DuXOvy"
      },
      "execution_count": null,
      "outputs": []
    },
    {
      "cell_type": "code",
      "source": [
        "a,b,c,d = 3,5,7,10"
      ],
      "metadata": {
        "id": "kQaTxAp7nGJt"
      },
      "execution_count": null,
      "outputs": []
    },
    {
      "cell_type": "code",
      "source": [
        "u = adicao (a, b)\n",
        "v = subtracao (d, c)\n",
        "w = multiplicacao (u, v)\n",
        "x = divisao (w, 2)"
      ],
      "metadata": {
        "id": "vRskzrtPXxVe"
      },
      "execution_count": null,
      "outputs": []
    },
    {
      "cell_type": "code",
      "source": [
        "divisao (multiplicacao( adicao (a,b), subtracao (d, c)), 2)"
      ],
      "metadata": {
        "id": "_sZeKsmRYDV3",
        "colab": {
          "base_uri": "https://localhost:8080/"
        },
        "outputId": "826101da-2ddb-4e71-870e-e98fa81ced2d"
      },
      "execution_count": null,
      "outputs": [
        {
          "output_type": "execute_result",
          "data": {
            "text/plain": [
              "12.0"
            ]
          },
          "metadata": {},
          "execution_count": 22
        }
      ]
    },
    {
      "cell_type": "code",
      "source": [
        "# FUCOES ANONIMA OU LAMBDA\n",
        "\n",
        "# lambda x p1,p2,p3: expressao"
      ],
      "metadata": {
        "id": "wIDGlwVcXpTi"
      },
      "execution_count": null,
      "outputs": []
    },
    {
      "cell_type": "code",
      "source": [
        "lambda x: x**2"
      ],
      "metadata": {
        "id": "5lBxcRVIY5JO",
        "colab": {
          "base_uri": "https://localhost:8080/"
        },
        "outputId": "31230cb0-81d2-4adf-e95a-a4241cc03a93"
      },
      "execution_count": null,
      "outputs": [
        {
          "output_type": "execute_result",
          "data": {
            "text/plain": [
              "<function __main__.<lambda>(x)>"
            ]
          },
          "metadata": {},
          "execution_count": 25
        }
      ]
    },
    {
      "cell_type": "code",
      "source": [
        "(lambda x: x**2)(2)"
      ],
      "metadata": {
        "id": "AXyu_sUiZRdX",
        "colab": {
          "base_uri": "https://localhost:8080/"
        },
        "outputId": "02f97593-b735-455c-dbe7-48550f413ba2"
      },
      "execution_count": null,
      "outputs": [
        {
          "output_type": "execute_result",
          "data": {
            "text/plain": [
              "4"
            ]
          },
          "metadata": {},
          "execution_count": 27
        }
      ]
    },
    {
      "cell_type": "code",
      "source": [
        "(lambda x: x**2)(2)"
      ],
      "metadata": {
        "colab": {
          "base_uri": "https://localhost:8080/"
        },
        "id": "FIHWeONhZMiP",
        "outputId": "3fe67c49-448a-4c1c-f97c-30b3352ed2c2"
      },
      "execution_count": null,
      "outputs": [
        {
          "output_type": "execute_result",
          "data": {
            "text/plain": [
              "4"
            ]
          },
          "metadata": {},
          "execution_count": 28
        }
      ]
    },
    {
      "cell_type": "code",
      "source": [
        "(lambda x: x**3)(2)"
      ],
      "metadata": {
        "colab": {
          "base_uri": "https://localhost:8080/"
        },
        "id": "KnWRsDKMZnZW",
        "outputId": "570b10e1-10bd-4169-fd30-0a645214e7e7"
      },
      "execution_count": null,
      "outputs": [
        {
          "output_type": "execute_result",
          "data": {
            "text/plain": [
              "8"
            ]
          },
          "metadata": {},
          "execution_count": 29
        }
      ]
    },
    {
      "cell_type": "code",
      "source": [
        "(lambda x: x**4)(2)"
      ],
      "metadata": {
        "colab": {
          "base_uri": "https://localhost:8080/"
        },
        "id": "purkFxYYZqye",
        "outputId": "20b727ab-cd08-4503-81f9-f8e882e56b0e"
      },
      "execution_count": null,
      "outputs": [
        {
          "output_type": "execute_result",
          "data": {
            "text/plain": [
              "16"
            ]
          },
          "metadata": {},
          "execution_count": 30
        }
      ]
    },
    {
      "cell_type": "code",
      "source": [
        "exp2 = lambda x: x**2\n",
        "exp3 = lambda x: x**3\n",
        "exp4 = lambda x: x**4"
      ],
      "metadata": {
        "id": "edKkXXg2ZtVB"
      },
      "execution_count": null,
      "outputs": []
    },
    {
      "cell_type": "code",
      "source": [
        "print (exp2 (2))\n",
        "print (exp3 (2))\n",
        "print (exp4 (2))"
      ],
      "metadata": {
        "colab": {
          "base_uri": "https://localhost:8080/"
        },
        "id": "N-ZodYapaI0i",
        "outputId": "db1b4d03-02a5-4c38-8089-94996034fcd7"
      },
      "execution_count": null,
      "outputs": [
        {
          "output_type": "stream",
          "name": "stdout",
          "text": [
            "4\n",
            "8\n",
            "16\n"
          ]
        }
      ]
    },
    {
      "cell_type": "code",
      "source": [
        "exp = lambda x,p: x**p"
      ],
      "metadata": {
        "id": "bJzwXKUiaQb9"
      },
      "execution_count": null,
      "outputs": []
    },
    {
      "cell_type": "code",
      "source": [
        "print (exp(2, 2))\n",
        "print (exp(2, 3))\n",
        "print (exp(2, 4))"
      ],
      "metadata": {
        "colab": {
          "base_uri": "https://localhost:8080/"
        },
        "id": "wYMEjPBrahtI",
        "outputId": "d7302a6a-878a-459b-bb05-d7eafa57395c"
      },
      "execution_count": null,
      "outputs": [
        {
          "output_type": "stream",
          "name": "stdout",
          "text": [
            "4\n",
            "8\n",
            "16\n"
          ]
        }
      ]
    },
    {
      "cell_type": "code",
      "source": [
        "exp = lambda x,p=2: x**p"
      ],
      "metadata": {
        "id": "fF7AOQ74n9B0"
      },
      "execution_count": null,
      "outputs": []
    },
    {
      "cell_type": "code",
      "source": [
        "print (exp(2))\n",
        "print (exp (2,2))\n",
        "print (exp (2,3))\n",
        "print (exp(2,4))"
      ],
      "metadata": {
        "colab": {
          "base_uri": "https://localhost:8080/"
        },
        "id": "L2Us57SloDE6",
        "outputId": "6ccfa1a5-1e2e-4a1c-c3f4-67775f5c8817"
      },
      "execution_count": null,
      "outputs": [
        {
          "output_type": "stream",
          "name": "stdout",
          "text": [
            "4\n",
            "4\n",
            "8\n",
            "16\n"
          ]
        }
      ]
    },
    {
      "cell_type": "code",
      "source": [
        "class Vehicle:\n",
        "  \n",
        "  def __init__ (self, type, model, manufacturer, seat_capacity):\n",
        "    self.type = type\n",
        "    self.model = model\n",
        "    self.manufacturer = manufacturer\n",
        "    self.seat_capacity = seat_capacity"
      ],
      "metadata": {
        "id": "_vqP2am8bZ7w"
      },
      "execution_count": null,
      "outputs": []
    },
    {
      "cell_type": "code",
      "source": [
        "myPlane = Vehicle (\"plane\", \"A320\", \"Airbus\", 180)\n",
        "mycar =Vehicle (\"car\", model = \"uno\", manufacturer=\"Fiat\", seat_capacity=5)"
      ],
      "metadata": {
        "id": "bgeDy0lucL3l"
      },
      "execution_count": null,
      "outputs": []
    },
    {
      "cell_type": "code",
      "source": [
        "print( myPlane.type)\n",
        "print( myPlane.manufacturer)\n",
        "print( myPlane.model)\n",
        "print( myPlane.seat_capacity)"
      ],
      "metadata": {
        "colab": {
          "base_uri": "https://localhost:8080/"
        },
        "id": "ujkigj-fcw-N",
        "outputId": "020f3866-1edf-4c6d-80e1-3e31e4ea222f"
      },
      "execution_count": null,
      "outputs": [
        {
          "output_type": "stream",
          "name": "stdout",
          "text": [
            "plane\n",
            "Airbus\n",
            "A320\n",
            "180\n"
          ]
        }
      ]
    },
    {
      "cell_type": "code",
      "source": [
        "print( mycar.type)\n",
        "print( mycar.manufacturer)\n",
        "print( mycar.model)\n",
        "print( mycar.seat_capacity)"
      ],
      "metadata": {
        "colab": {
          "base_uri": "https://localhost:8080/"
        },
        "id": "Vc9BOePTddF2",
        "outputId": "79fb03d8-aa31-4e30-cc99-d30d8d19b804"
      },
      "execution_count": null,
      "outputs": [
        {
          "output_type": "stream",
          "name": "stdout",
          "text": [
            "car\n",
            "Fiat\n",
            "uno\n",
            "5\n"
          ]
        }
      ]
    },
    {
      "cell_type": "code",
      "source": [
        "myPlane.model = \"a321\""
      ],
      "metadata": {
        "id": "bERPTAjzowWO"
      },
      "execution_count": null,
      "outputs": []
    },
    {
      "cell_type": "code",
      "source": [
        "myPlane.model"
      ],
      "metadata": {
        "colab": {
          "base_uri": "https://localhost:8080/",
          "height": 35
        },
        "id": "0reJuB52o5KR",
        "outputId": "3e919acd-8f41-4d95-c723-d217cc1d2fea"
      },
      "execution_count": null,
      "outputs": [
        {
          "output_type": "execute_result",
          "data": {
            "text/plain": [
              "'a321'"
            ],
            "application/vnd.google.colaboratory.intrinsic+json": {
              "type": "string"
            }
          },
          "metadata": {},
          "execution_count": 64
        }
      ]
    },
    {
      "cell_type": "code",
      "source": [
        "\n",
        "class Vehicle:\n",
        "    \n",
        "    def __init__(self, type, model, manufacturer, seat_capacity):\n",
        "        self.type = type\n",
        "        self.model = model\n",
        "        self.manufacturer = manufacturer\n",
        "        self.seat_capacity = seat_capacity\n",
        "        \n",
        "    # Getter methods\n",
        "    \n",
        "    def getModel(self):\n",
        "        return f\"{self.manufacturer} {self.model}\"\n",
        "        \n",
        "    def getSeatCapacity(self):\n",
        "        return self.seat_capacity"
      ],
      "metadata": {
        "id": "loDvCY5XaqBP"
      },
      "execution_count": null,
      "outputs": []
    },
    {
      "cell_type": "code",
      "source": [
        "myPlane = Vehicle(\"plane\", \"A320\", \"Airbus\", 180)\n",
        "myCar = Vehicle(\"car\", model = \"Uno\", manufacturer=\"Fiat\", seat_capacity=5)"
      ],
      "metadata": {
        "id": "XOoGN2mqhjos"
      },
      "execution_count": null,
      "outputs": []
    },
    {
      "cell_type": "code",
      "source": [
        "print ( myPlane.getModel())\n",
        "print ( f\"Cabem {myPlane.getSeatCapacity ()} passageiros no {myPlane.getModel()}\")"
      ],
      "metadata": {
        "colab": {
          "base_uri": "https://localhost:8080/"
        },
        "id": "imbNfkIGiD_j",
        "outputId": "ead53579-add5-41f0-b137-6fd2af3f27b9"
      },
      "execution_count": null,
      "outputs": [
        {
          "output_type": "stream",
          "name": "stdout",
          "text": [
            "Airbus A320\n",
            "Cabem 180 passageiros no Airbus A320\n"
          ]
        }
      ]
    },
    {
      "cell_type": "code",
      "source": [
        "print (myCar.getModel ())\n",
        "print (f\"Cabem {myCar.getSeatCapacity()} passageiros no {myCar.getModel()}\")"
      ],
      "metadata": {
        "colab": {
          "base_uri": "https://localhost:8080/"
        },
        "id": "XqoF1ngwrWEq",
        "outputId": "b1a2f678-bf81-4cab-a2d5-a940ef5e1df4"
      },
      "execution_count": null,
      "outputs": [
        {
          "output_type": "stream",
          "name": "stdout",
          "text": [
            "Fiat Uno\n",
            "Cabem 5 passageiros no Fiat Uno\n"
          ]
        }
      ]
    },
    {
      "cell_type": "code",
      "source": [
        "class Vehicle:\n",
        "  def __init__(self, type, model, manufacturer, seat_capacity):\n",
        "        self.type = type\n",
        "        self.model = model\n",
        "        self.manufacturer = manufacturer\n",
        "        self.seat_capacity = seat_capacity\n",
        "\n",
        "        self.n_passengers_onboard = 0\n",
        "\n",
        "\n",
        "  # Getter methods\n",
        "    \n",
        "  def getModel(self):\n",
        "      return f\"{self.manufacturer} {self.model}\"\n",
        "        \n",
        "  def getSeatCapacity(self):\n",
        "      return self.seat_capacity\n",
        "\n",
        "  def getNumPassengersOnboard (self):\n",
        "      return self.n_passengers_onboard\n",
        "\n",
        "  def getNumSeatsAvailable (self):\n",
        "      return self.seat_capacity - self. n_passengers_onboard\n",
        "\n",
        "  # Setter methods\n",
        "\n",
        "  def removeAllPassengers (self):\n",
        "      self.n_passengers_onboard = 0\n",
        "\n",
        "  def embarkPassengers(self, n_passengers_to_embark):\n",
        "\n",
        "      avaliable_seats = self.getNumSeatsAvailable()\n",
        "\n",
        "      if avaliable_seats >= n_passengers_to_embark:\n",
        "          self.n_passengers_onboard += n_passengers_to_embark\n",
        "          return f\"Mais {n_passengers_to_embark} passageiros embarcados com sucesso !\"\n",
        "\n",
        "      else:\n",
        "        return f\"IMpossivel embarcarmais {n_passengers_to_embark} passageiros! Apenas {avaliable_seats} assentos disponíveis.\"\n",
        "\n",
        "  def removePassengers(self, n_passengers_to_remove):\n",
        "\n",
        "    if n_passengers_to_remove <= self.n_passengers_onboard:\n",
        "      self.n_passengers_onboard -= n_passengers_to_remove\n",
        "      return f\"Desembarcaram {n_passengers_to_remove} passageiros\"\n",
        "\n",
        "    elif self.n_passengers_onboard > 0:\n",
        "      n_passengers_remaining = self.n_passengers_onboard\n",
        "      self.removeAllPassengers()\n",
        "      return f\"Havia apenas {n_passengers_remaining} embarcados! Todos desembarcaram.\"\n",
        "    \n",
        "    else:\n",
        "      return \"Nenhum passageiro a bordo\"   \n",
        "      return self.seat_capacity - self.n_passengers_onboard\n",
        "\n"
      ],
      "metadata": {
        "id": "HF7tXDLYsT2X"
      },
      "execution_count": null,
      "outputs": []
    },
    {
      "cell_type": "code",
      "source": [
        "myPlane = Vehicle (\"plane\", \"A350\", \"Airbus\", 180)\n",
        "myCar = Vehicle (\"car\", \"Uno\", \"Fiat\", 5)"
      ],
      "metadata": {
        "id": "KbfhQ_-1hMPM"
      },
      "execution_count": null,
      "outputs": []
    },
    {
      "cell_type": "code",
      "source": [
        "print (myPlane.embarkPassengers(5))\n",
        "print ( f\"{myPlane.getNumPassengersOnboard()} passageiros a bordo\" )\n",
        "print ( f\"{myPlane.getNumSeatsAvailable()} assentos disponiveis\" )\n"
      ],
      "metadata": {
        "colab": {
          "base_uri": "https://localhost:8080/"
        },
        "id": "MXsuwVEIpL-Z",
        "outputId": "fcbc31f0-b7ec-4405-c367-be79446d8ac2"
      },
      "execution_count": null,
      "outputs": [
        {
          "output_type": "stream",
          "name": "stdout",
          "text": [
            "Mais 5 passageiros embarcados com sucesso !\n",
            "5 passageiros a bordo\n",
            "175 assentos disponiveis\n"
          ]
        }
      ]
    },
    {
      "cell_type": "code",
      "source": [
        "print(myPlane.removePassengers(5))\n",
        "print( f\"{myPlane.getNumPassengersOnboard()} passageiros a bordo\" )\n",
        "print( f\"{myPlane.getNumSeatsAvailable()} assentos disponíveis\" )"
      ],
      "metadata": {
        "colab": {
          "base_uri": "https://localhost:8080/"
        },
        "id": "dqVURSJ_1jUi",
        "outputId": "1c93dc05-9744-4324-e1ef-9cde127e5753"
      },
      "execution_count": null,
      "outputs": [
        {
          "output_type": "stream",
          "name": "stdout",
          "text": [
            "Desembarcaram 5 passageiros\n",
            "0 passageiros a bordo\n",
            "180 assentos disponíveis\n"
          ]
        }
      ]
    },
    {
      "cell_type": "code",
      "source": [
        "print (myCar.removePassengers(5))\n",
        "print ( f\"{myCar.getNumPassengersOnboard()} passageiros a bordo\" )\n",
        "print( f\"{myCar.getNumSeatsAvailable()} assentos disponíveis\" )"
      ],
      "metadata": {
        "colab": {
          "base_uri": "https://localhost:8080/"
        },
        "id": "cWuebTQdp9OA",
        "outputId": "120c26a7-07f8-4b2e-eac9-063710a21f00"
      },
      "execution_count": null,
      "outputs": [
        {
          "output_type": "stream",
          "name": "stdout",
          "text": [
            "Nenhum passageiro a bordo\n",
            "0 passageiros a bordo\n",
            "5 assentos disponíveis\n"
          ]
        }
      ]
    },
    {
      "cell_type": "code",
      "source": [
        "class Airplane (Vehicle):\n",
        "  def __init__ (self, model, manufacturer, airline, seat_capacity):\n",
        "   super(). __init__ (type = \"plane\", model = model, manufacturer= manufacturer, seat_capacity = seat_capacity)\n",
        "   self.airline = airline\n",
        "\n",
        "  def takeoff(self):\n",
        "      print(f\"O {self.getModel()} de {self.airline} esta decolando com {self.getNumPassengersOnboard()} passageiros\")\n",
        "  \n",
        "  \n",
        "  \n",
        "  \n",
        "class Car(Vehicle):\n",
        "    def __init__(self, model, manufacturer, seat_capacity):\n",
        "        super().__init__(type='car',model=model,manufacturer=manufacturer,seat_capacity=seat_capacity)\n",
        "\n",
        "    def embarkPassengers (self, n_passengers_to_embark, name_driver):\n",
        "        \n",
        "        avaliable_seats = self.getNumSeatsAvailable()\n",
        "        self.name_driver = name_driver\n",
        "\n",
        "        if avaliable_seats >= n_passengers_to_embark:\n",
        "              self.n_passengers_onboard += n_passengers_to_embark\n",
        "              return f\"Mais {n_passengers_to_embark} passageiros embarcados com sucesso!\"\n",
        "\n",
        "        else:\n",
        "              return f\"Impossivel embarcar mais {n_passengers_to_embark} passageiros! Apenas {avaliable_seats} assendos disponiveis\"\n",
        "\n",
        "\n",
        "    def drive(self):\n",
        "      if self.getNumPassengersOnboard() > 0:\n",
        "        print (f\"O {self.getModel()} conduzido por {self.name_driver} esta na estrada com {self.getNumPassengersOnboard()} passageiros\")\n",
        "\n",
        "      else:\n",
        "        print(\"UM carro não pode operar sem motorista\")\n",
        "\n",
        "\n"
      ],
      "metadata": {
        "id": "tE-xxMS4pqeI"
      },
      "execution_count": null,
      "outputs": []
    },
    {
      "cell_type": "code",
      "source": [
        "latamPlane = Airplane (\"A320\", \"Airbus\", \"Latam\", 180)\n",
        "\n",
        "print(latamPlane.embarkPassengers(130))\n",
        "latamPlane.takeoff()"
      ],
      "metadata": {
        "id": "dBaV5y-pwg-j",
        "colab": {
          "base_uri": "https://localhost:8080/"
        },
        "outputId": "3ae62ebf-d80b-414f-f4d8-7a96bc1c0276"
      },
      "execution_count": null,
      "outputs": [
        {
          "output_type": "stream",
          "name": "stdout",
          "text": [
            "Mais 130 passageiros embarcados com sucesso !\n",
            "O Airbus A320 de Latam esta decolando com 130 passageiros\n"
          ]
        }
      ]
    },
    {
      "cell_type": "code",
      "source": [
        "azulPlane = Airplane(\"ERJ150\", \"Embraer\", \"Azul\", 100)\n",
        "print(azulPlane.embarkPassengers(70))\n",
        "azulPlane.takeoff()"
      ],
      "metadata": {
        "id": "HfzJkzxUxMOT",
        "colab": {
          "base_uri": "https://localhost:8080/"
        },
        "outputId": "fce096ca-9c79-4394-e718-4263406d0f24"
      },
      "execution_count": null,
      "outputs": [
        {
          "output_type": "stream",
          "name": "stdout",
          "text": [
            "Mais 70 passageiros embarcados com sucesso !\n",
            "O Embraer ERJ150 de Azul esta decolando com 70 passageiros\n"
          ]
        }
      ]
    },
    {
      "cell_type": "code",
      "source": [
        "myCar = Car('Uno','Fiat', 5)\n",
        "\n",
        "print(myCar.embarkPassengers(3, name_driver=\"Sérgio\"))\n",
        "myCar.drive()"
      ],
      "metadata": {
        "id": "YoV7H8R2y0iO",
        "colab": {
          "base_uri": "https://localhost:8080/"
        },
        "outputId": "d38c178e-18f1-4dfd-b104-781fbddc9129"
      },
      "execution_count": null,
      "outputs": [
        {
          "output_type": "stream",
          "name": "stdout",
          "text": [
            "Mais 3 passageiros embarcados com sucesso!\n",
            "O Fiat Uno conduzido por Sérgio esta na estrada com 3 passageiros\n"
          ]
        }
      ]
    },
    {
      "cell_type": "code",
      "source": [],
      "metadata": {
        "id": "648IdtTvw9wn"
      },
      "execution_count": null,
      "outputs": []
    }
  ]
}