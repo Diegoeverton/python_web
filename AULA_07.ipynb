{
  "nbformat": 4,
  "nbformat_minor": 0,
  "metadata": {
    "colab": {
      "provenance": [],
      "collapsed_sections": [],
      "authorship_tag": "ABX9TyNIgo6C5xPXtWz8RQtn2/B4",
      "include_colab_link": true
    },
    "kernelspec": {
      "name": "python3",
      "display_name": "Python 3"
    },
    "language_info": {
      "name": "python"
    }
  },
  "cells": [
    {
      "cell_type": "markdown",
      "metadata": {
        "id": "view-in-github",
        "colab_type": "text"
      },
      "source": [
        "<a href=\"https://colab.research.google.com/github/Diegoeverton/python_web/blob/main/AULA_07.ipynb\" target=\"_parent\"><img src=\"https://colab.research.google.com/assets/colab-badge.svg\" alt=\"Open In Colab\"/></a>"
      ]
    },
    {
      "cell_type": "code",
      "source": [
        "#exercicio 1\n",
        "def ex1 (n):\n",
        "  for i in range (1, n+1):\n",
        "    print((str(i) + \" \")*i)"
      ],
      "metadata": {
        "id": "06uMADSwL0jt"
      },
      "execution_count": null,
      "outputs": []
    },
    {
      "cell_type": "code",
      "source": [
        "obj1 = ex1(5)"
      ],
      "metadata": {
        "colab": {
          "base_uri": "https://localhost:8080/"
        },
        "id": "mbJvRIjoMSEJ",
        "outputId": "b24c641b-c24e-43b3-8888-424eb44cc78e"
      },
      "execution_count": null,
      "outputs": [
        {
          "output_type": "stream",
          "name": "stdout",
          "text": [
            "1 \n",
            "2 2 \n",
            "3 3 3 \n",
            "4 4 4 4 \n",
            "5 5 5 5 5 \n"
          ]
        }
      ]
    },
    {
      "cell_type": "code",
      "source": [
        "#exercicio 2\n",
        "def ex2 (n):\n",
        "  z = []\n",
        "  for i in range (1, n+1):\n",
        "    z.append (i) # adiciona o elemento no final da lista\n",
        "    #n += 1\n",
        "    print(z)\n",
        "    "
      ],
      "metadata": {
        "id": "Nk-sgJCOMVgt"
      },
      "execution_count": null,
      "outputs": []
    },
    {
      "cell_type": "code",
      "source": [
        "obj1 = ex2 (int(input())) # numero do usuario"
      ],
      "metadata": {
        "colab": {
          "base_uri": "https://localhost:8080/"
        },
        "id": "Hh7Q826BR5zg",
        "outputId": "4796a056-6d1d-40b9-f1ed-9262d6100cfe"
      },
      "execution_count": null,
      "outputs": [
        {
          "output_type": "stream",
          "name": "stdout",
          "text": [
            "5\n",
            "[1]\n",
            "[1, 2]\n",
            "[1, 2, 3]\n",
            "[1, 2, 3, 4]\n",
            "[1, 2, 3, 4, 5]\n"
          ]
        }
      ]
    },
    {
      "cell_type": "code",
      "source": [
        "# exercicio 3\n",
        "\n",
        "def ex3(n1, n2, n3):\n",
        "  print(\" a soma  e \", n1 + n2  + n3)\n",
        "  \n",
        "obj = ex3(10, 20, 30)\n"
      ],
      "metadata": {
        "colab": {
          "base_uri": "https://localhost:8080/"
        },
        "id": "IGlTK5RsTJ4m",
        "outputId": "17f7441c-c395-4181-a922-01db0f1c9677"
      },
      "execution_count": null,
      "outputs": [
        {
          "output_type": "stream",
          "name": "stdout",
          "text": [
            " a soma  e  60\n"
          ]
        }
      ]
    },
    {
      "cell_type": "code",
      "source": [
        "from traitlets.config.loader import ArgumentError\n",
        "#exercicio 4\n",
        "\n",
        "def ex4 (x):\n",
        "  if x < 0:\n",
        "    print(f\" n \")\n",
        "  else:\n",
        "    print (\" p\")\n",
        "\n",
        "obj = ex4(float(input(\"Digite um valor inteiro: \")))\n"
      ],
      "metadata": {
        "colab": {
          "base_uri": "https://localhost:8080/"
        },
        "id": "gzBY_MtHYNGj",
        "outputId": "d74aa599-84eb-4a4d-fc15-adac8f1a3015"
      },
      "execution_count": null,
      "outputs": [
        {
          "output_type": "stream",
          "name": "stdout",
          "text": [
            "Digite um valor inteiro: -1\n",
            " n \n"
          ]
        }
      ]
    },
    {
      "cell_type": "code",
      "source": [
        "\n",
        "#exercicio 5\n",
        "\n",
        "def somaimposto(tximp, custo):\n",
        "  taxa = tximp / 100\n",
        "  #custo = custo\n",
        "  custoAlterado = (custo * taxa) + custo\n",
        "  return custoAlterado\n",
        "  "
      ],
      "metadata": {
        "id": "78qIdZgbZWNK"
      },
      "execution_count": null,
      "outputs": []
    },
    {
      "cell_type": "code",
      "source": [
        "obj = somaimposto(20,100)\n",
        "print(obj)"
      ],
      "metadata": {
        "colab": {
          "base_uri": "https://localhost:8080/"
        },
        "id": "Auh9Rxxobxlu",
        "outputId": "b54eb951-b374-434d-f3b2-2993b782dc36"
      },
      "execution_count": null,
      "outputs": [
        {
          "output_type": "stream",
          "name": "stdout",
          "text": [
            "120.0\n"
          ]
        }
      ]
    },
    {
      "cell_type": "code",
      "source": [
        "def somaimposto (taxaimposto, custo):\n",
        "  print((0.01*taxaimposto) * custo + custo)"
      ],
      "metadata": {
        "id": "zh4M0r9Lc2p6"
      },
      "execution_count": null,
      "outputs": []
    },
    {
      "cell_type": "code",
      "source": [
        "obj2 = somaimposto(10, 100)"
      ],
      "metadata": {
        "colab": {
          "base_uri": "https://localhost:8080/"
        },
        "id": "kze9e_krdDlI",
        "outputId": "1f6ad5cc-e911-4ca0-e692-2096f9fb6370"
      },
      "execution_count": null,
      "outputs": [
        {
          "output_type": "stream",
          "name": "stdout",
          "text": [
            "110.0\n"
          ]
        }
      ]
    },
    {
      "cell_type": "code",
      "source": [],
      "metadata": {
        "id": "oY-8mCUddICx"
      },
      "execution_count": null,
      "outputs": []
    },
    {
      "cell_type": "code",
      "source": [
        "#exercicio 9 \n",
        "def reverse (x):\n",
        "  #print(x[-1::-1])\n",
        "  #list.reverse(x)\n",
        "  print(x)\n",
        "  #print (x[::-1])\n",
        "\n",
        "obj = reverse (input(\"Digite um numero: \"))"
      ],
      "metadata": {
        "colab": {
          "base_uri": "https://localhost:8080/"
        },
        "id": "_ahtVlm2dgDo",
        "outputId": "61bf86b8-257f-48ea-d153-a771a5852603"
      },
      "execution_count": null,
      "outputs": [
        {
          "output_type": "stream",
          "name": "stdout",
          "text": [
            "Digite um numero: 13\n",
            "<built-in method reverse of list object at 0x7f673847d050>\n"
          ]
        }
      ]
    },
    {
      "cell_type": "code",
      "source": [
        "#\n",
        "x = 10\n",
        "list = [x]\n",
        "list.reverse()\n",
        "print (list)"
      ],
      "metadata": {
        "colab": {
          "base_uri": "https://localhost:8080/"
        },
        "id": "Sdcf4lBhdfXL",
        "outputId": "658c37e9-b7de-4169-f765-bb60199405d7"
      },
      "execution_count": null,
      "outputs": [
        {
          "output_type": "stream",
          "name": "stdout",
          "text": [
            "[10]\n"
          ]
        }
      ]
    }
  ]
}